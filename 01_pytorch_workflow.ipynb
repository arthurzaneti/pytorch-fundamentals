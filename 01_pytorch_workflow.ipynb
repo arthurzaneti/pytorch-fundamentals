{
  "nbformat": 4,
  "nbformat_minor": 0,
  "metadata": {
    "colab": {
      "provenance": [],
      "gpuType": "T4",
      "toc_visible": true,
      "authorship_tag": "ABX9TyPB50DVpzRk1h/r7b1Z119R",
      "include_colab_link": true
    },
    "kernelspec": {
      "name": "python3",
      "display_name": "Python 3"
    },
    "language_info": {
      "name": "python"
    },
    "accelerator": "GPU"
  },
  "cells": [
    {
      "cell_type": "markdown",
      "metadata": {
        "id": "view-in-github",
        "colab_type": "text"
      },
      "source": [
        "<a href=\"https://colab.research.google.com/github/arthurzaneti/pytorch-fundamentals/blob/main/01_pytorch_workflow.ipynb\" target=\"_parent\"><img src=\"https://colab.research.google.com/assets/colab-badge.svg\" alt=\"Open In Colab\"/></a>"
      ]
    },
    {
      "cell_type": "markdown",
      "source": [
        "# Pytorch Workflow"
      ],
      "metadata": {
        "id": "QxgR-8hTvunH"
      }
    },
    {
      "cell_type": "markdown",
      "source": [
        "We are gonna go trough:\n",
        "1. \"data (prepare and load)\",\n",
        "2. \"build model\",\n",
        "3. \"fitting the model to data(training)\"\n",
        "4. \"making predicions and evaluating a model\"\n",
        "5. \"save and reload\""
      ],
      "metadata": {
        "id": "Nz8eCnwAwg0_"
      }
    },
    {
      "cell_type": "code",
      "source": [
        "import torch\n",
        "from torch import nn #neural networks\n",
        "import matplotlib.pyplot as plt\n",
        "\n",
        "# Check PyTorch version\n",
        "torch.__version__"
      ],
      "metadata": {
        "colab": {
          "base_uri": "https://localhost:8080/",
          "height": 35
        },
        "id": "qbBLEoeXw_mA",
        "outputId": "9905fc4f-c57c-4c5b-b904-e45a73269e4a"
      },
      "execution_count": null,
      "outputs": [
        {
          "output_type": "execute_result",
          "data": {
            "text/plain": [
              "'2.0.1+cu118'"
            ],
            "application/vnd.google.colaboratory.intrinsic+json": {
              "type": "string"
            }
          },
          "metadata": {},
          "execution_count": 1
        }
      ]
    },
    {
      "cell_type": "markdown",
      "source": [
        "## Data: preparing and loading"
      ],
      "metadata": {
        "id": "sR2lzFJmxeDe"
      }
    },
    {
      "cell_type": "markdown",
      "source": [
        "Data is a REALLY genneral term in ML, so it can be almost anything"
      ],
      "metadata": {
        "id": "AlhgK2Jkxs7N"
      }
    },
    {
      "cell_type": "markdown",
      "source": [
        "We'll use a linear regression formula to make a straight lne with known parameters."
      ],
      "metadata": {
        "id": "d-E5FtOkx8fn"
      }
    },
    {
      "cell_type": "code",
      "source": [
        "# Creating *known* parameters\n",
        "\n",
        "weight = 0.7\n",
        "bias = 0.3\n",
        "\n",
        "# Create the values\n",
        "X = torch.arange(0, 1, 0.02).unsqueeze(dim = 1)\n",
        "y = weight * X + bias"
      ],
      "metadata": {
        "id": "1M_T7Rbhy2F4"
      },
      "execution_count": null,
      "outputs": []
    },
    {
      "cell_type": "code",
      "source": [
        "torch.hstack((X, y))"
      ],
      "metadata": {
        "colab": {
          "base_uri": "https://localhost:8080/"
        },
        "id": "JzR2bIEPzbrY",
        "outputId": "fedb90fc-e107-4a32-9523-6c35a0ddf078"
      },
      "execution_count": null,
      "outputs": [
        {
          "output_type": "execute_result",
          "data": {
            "text/plain": [
              "tensor([[0.0000, 0.3000],\n",
              "        [0.0200, 0.3140],\n",
              "        [0.0400, 0.3280],\n",
              "        [0.0600, 0.3420],\n",
              "        [0.0800, 0.3560],\n",
              "        [0.1000, 0.3700],\n",
              "        [0.1200, 0.3840],\n",
              "        [0.1400, 0.3980],\n",
              "        [0.1600, 0.4120],\n",
              "        [0.1800, 0.4260],\n",
              "        [0.2000, 0.4400],\n",
              "        [0.2200, 0.4540],\n",
              "        [0.2400, 0.4680],\n",
              "        [0.2600, 0.4820],\n",
              "        [0.2800, 0.4960],\n",
              "        [0.3000, 0.5100],\n",
              "        [0.3200, 0.5240],\n",
              "        [0.3400, 0.5380],\n",
              "        [0.3600, 0.5520],\n",
              "        [0.3800, 0.5660],\n",
              "        [0.4000, 0.5800],\n",
              "        [0.4200, 0.5940],\n",
              "        [0.4400, 0.6080],\n",
              "        [0.4600, 0.6220],\n",
              "        [0.4800, 0.6360],\n",
              "        [0.5000, 0.6500],\n",
              "        [0.5200, 0.6640],\n",
              "        [0.5400, 0.6780],\n",
              "        [0.5600, 0.6920],\n",
              "        [0.5800, 0.7060],\n",
              "        [0.6000, 0.7200],\n",
              "        [0.6200, 0.7340],\n",
              "        [0.6400, 0.7480],\n",
              "        [0.6600, 0.7620],\n",
              "        [0.6800, 0.7760],\n",
              "        [0.7000, 0.7900],\n",
              "        [0.7200, 0.8040],\n",
              "        [0.7400, 0.8180],\n",
              "        [0.7600, 0.8320],\n",
              "        [0.7800, 0.8460],\n",
              "        [0.8000, 0.8600],\n",
              "        [0.8200, 0.8740],\n",
              "        [0.8400, 0.8880],\n",
              "        [0.8600, 0.9020],\n",
              "        [0.8800, 0.9160],\n",
              "        [0.9000, 0.9300],\n",
              "        [0.9200, 0.9440],\n",
              "        [0.9400, 0.9580],\n",
              "        [0.9600, 0.9720],\n",
              "        [0.9800, 0.9860]])"
            ]
          },
          "metadata": {},
          "execution_count": 3
        }
      ]
    },
    {
      "cell_type": "code",
      "source": [
        "plt.plot(X, y)"
      ],
      "metadata": {
        "colab": {
          "base_uri": "https://localhost:8080/",
          "height": 447
        },
        "id": "HLnlXght0STT",
        "outputId": "cdf685bc-ead5-4375-85dd-98c2b0f96790"
      },
      "execution_count": null,
      "outputs": [
        {
          "output_type": "execute_result",
          "data": {
            "text/plain": [
              "[<matplotlib.lines.Line2D at 0x7d6a4c2e5330>]"
            ]
          },
          "metadata": {},
          "execution_count": 4
        },
        {
          "output_type": "display_data",
          "data": {
            "text/plain": [
              "<Figure size 640x480 with 1 Axes>"
            ],
            "image/png": "[encoded data removed]"
          },
          "metadata": {}
        }
      ]
    },
    {
      "cell_type": "code",
      "source": [
        "len(X)"
      ],
      "metadata": {
        "colab": {
          "base_uri": "https://localhost:8080/"
        },
        "id": "p4qd_z7pzkeF",
        "outputId": "b211f905-5041-4882-c4ca-09b2684a6a65"
      },
      "execution_count": null,
      "outputs": [
        {
          "output_type": "execute_result",
          "data": {
            "text/plain": [
              "50"
            ]
          },
          "metadata": {},
          "execution_count": 5
        }
      ]
    },
    {
      "cell_type": "code",
      "source": [
        "# Train and test split\n",
        "\n",
        "X_train, y_train = X[0: int(0.8 * len(X))], y[0: int(0.8 * len(X))]\n",
        "X_test, y_test = X[int(0.8 * len(X)):], y[int(0.8 * len(X)):]"
      ],
      "metadata": {
        "id": "OiI_K0SL1gT7"
      },
      "execution_count": null,
      "outputs": []
    },
    {
      "cell_type": "code",
      "source": [
        "len(X_train), len(y_train)"
      ],
      "metadata": {
        "colab": {
          "base_uri": "https://localhost:8080/"
        },
        "id": "MfVlZRtZ2Jo6",
        "outputId": "042ea09d-b65e-424e-cc5d-31f52b2f3dfb"
      },
      "execution_count": null,
      "outputs": [
        {
          "output_type": "execute_result",
          "data": {
            "text/plain": [
              "(40, 40)"
            ]
          },
          "metadata": {},
          "execution_count": 7
        }
      ]
    },
    {
      "cell_type": "code",
      "source": [
        "len(X_test), len(y_test)"
      ],
      "metadata": {
        "colab": {
          "base_uri": "https://localhost:8080/"
        },
        "id": "shAIhuMV2N4H",
        "outputId": "d79fc31d-e23f-4b48-87ae-5d043db3f34e"
      },
      "execution_count": null,
      "outputs": [
        {
          "output_type": "execute_result",
          "data": {
            "text/plain": [
              "(10, 10)"
            ]
          },
          "metadata": {},
          "execution_count": 8
        }
      ]
    },
    {
      "cell_type": "code",
      "source": [
        "def plot_predictions(train_data = X_train,\n",
        "                     train_labels = y_train,\n",
        "                     test_data = X_test,\n",
        "                     test_labels = y_test,\n",
        "                     predictions = None):\n",
        "  plt.figure(figsize = (10, 7))\n",
        "\n",
        "  # Training data\n",
        "  plt.scatter(train_data, train_labels, c = \"b\", s = 4, label = \"Training data\")\n",
        "\n",
        "  # Test data\n",
        "  plt.scatter(test_data, test_labels, c = \"g\", s = 4, label = \"Testing data\")\n",
        "\n",
        "  if predictions is not None:\n",
        "    plt.scatter(test_data, predictions)\n",
        "\n",
        "  plt.legend(prop = {\"size\" : 14})"
      ],
      "metadata": {
        "id": "i854oFs22RaH"
      },
      "execution_count": null,
      "outputs": []
    },
    {
      "cell_type": "code",
      "source": [
        "plot_predictions()"
      ],
      "metadata": {
        "colab": {
          "base_uri": "https://localhost:8080/",
          "height": 459
        },
        "id": "0ri-L96i4Zdl",
        "outputId": "2ee8ee3d-aff9-4ac8-e240-9666fafab038"
      },
      "execution_count": null,
      "outputs": [
        {
          "output_type": "display_data",
          "data": {
            "text/plain": [
              "<Figure size 1000x700 with 1 Axes>"
            ],
            "image/png": "[encoded data removed]"
          },
          "metadata": {}
        }
      ]
    },
    {
      "cell_type": "markdown",
      "source": [
        "## 2.Build a model\n",
        "\n",
        "Exciting!!!\n",
        "\n",
        "What our model does:\n",
        "* Start with random values (weight and bias)\n",
        "* Look at the training data and adjust the random values to better represent the ideal values\n",
        "\n",
        "How does it do so?\n",
        "\n",
        "1. Gradient descent\n",
        "2. Backpropagation"
      ],
      "metadata": {
        "id": "zS2KWFns4mZp"
      }
    },
    {
      "cell_type": "code",
      "source": [
        "class LinearRegressionModel(nn.Module): #POOP (Python Object orientated programming in Python obviously...)\n",
        "  # Almost everything in PyTorch inherits nn.model\n",
        "  # Putting this inside the parenteses says it inherits nn.Module\n",
        "\n",
        "  def __init__(self):\n",
        "    super().__init__()\n",
        "    self.weights = nn.Parameter(torch.randn(1,\n",
        "                                            requires_grad = True,\n",
        "                                            dtype = torch.float))\n",
        "    self.bias = nn.Parameter(torch.randn(1,\n",
        "                                         requires_grad = True,\n",
        "                                         dtype = torch.float))\n",
        "  # Forward method to define the computation in the nn model\n",
        "\n",
        "  def forward(self, x: torch.Tensor) -> torch.Tensor:\n",
        "    return self.weights * x + self.bias"
      ],
      "metadata": {
        "id": "lyAo7FFMs_rU"
      },
      "execution_count": null,
      "outputs": []
    },
    {
      "cell_type": "markdown",
      "source": [
        "### PyTorch model building essentials\n",
        "\n",
        "* torch.nn - contains all of the building blocks for computational graphs(neural network in our case)\n",
        "* torch.nn.Parameter - What parameters should our model try and learn, often a PyTorch layer from torch.nn will set these for us\n",
        "* torch.nn.Module - The base class for all neural network modules, if you subclass it, you should overwrite forward()\n",
        "8 torch.optim - this is where the optimizers in PyTorch live, the functions that implement gradient descent\n",
        "* def forward() - All nn.Module subclasses require you to overwrite forward(), this method defines what happens in the forward method"
      ],
      "metadata": {
        "id": "FhgCtasZuhev"
      }
    },
    {
      "cell_type": "code",
      "source": [
        "### Checking the contents of our PyTorch model\n",
        "\n",
        "torch.manual_seed(42) # for reproducibility\n",
        "\n",
        "model_0 = LinearRegressionModel()\n",
        "\n",
        "list(model_0.parameters())"
      ],
      "metadata": {
        "colab": {
          "base_uri": "https://localhost:8080/"
        },
        "id": "Ke0tzYakozXo",
        "outputId": "fd32cc7b-4917-4d2e-b3c5-973a00a318ea"
      },
      "execution_count": null,
      "outputs": [
        {
          "output_type": "execute_result",
          "data": {
            "text/plain": [
              "[Parameter containing:\n",
              " tensor([0.3367], requires_grad=True),\n",
              " Parameter containing:\n",
              " tensor([0.1288], requires_grad=True)]"
            ]
          },
          "metadata": {},
          "execution_count": 83
        }
      ]
    },
    {
      "cell_type": "code",
      "source": [
        "model_0.state_dict()"
      ],
      "metadata": {
        "colab": {
          "base_uri": "https://localhost:8080/"
        },
        "id": "rFO3n7Naq5tl",
        "outputId": "085ddf7a-6644-4168-c7f4-68b912c3c68a"
      },
      "execution_count": null,
      "outputs": [
        {
          "output_type": "execute_result",
          "data": {
            "text/plain": [
              "OrderedDict([('weights', tensor([0.3367])), ('bias', tensor([0.1288]))])"
            ]
          },
          "metadata": {},
          "execution_count": 13
        }
      ]
    },
    {
      "cell_type": "code",
      "source": [
        "weight, bias"
      ],
      "metadata": {
        "colab": {
          "base_uri": "https://localhost:8080/"
        },
        "id": "vARyo1SYrSZT",
        "outputId": "5a7562a5-ad19-4cbe-b25e-39e11b609a94"
      },
      "execution_count": null,
      "outputs": [
        {
          "output_type": "execute_result",
          "data": {
            "text/plain": [
              "(0.7, 0.3)"
            ]
          },
          "metadata": {},
          "execution_count": 14
        }
      ]
    },
    {
      "cell_type": "markdown",
      "source": [
        "The whole point of machine learning is to get the parameters of our model to be as close as possible to the real values"
      ],
      "metadata": {
        "id": "Qpn7vy3RrUCg"
      }
    },
    {
      "cell_type": "markdown",
      "source": [
        "### Making predictions using `torch.inference_mode()`\n",
        "\n",
        "To check our model's power lets see how well it performs in prediction y_test based on X_test with its current values"
      ],
      "metadata": {
        "id": "cxVSiYG6rbTv"
      }
    },
    {
      "cell_type": "code",
      "source": [
        "with torch.inference_mode():\n",
        "  y_preds = model_0(X_test)\n",
        "\n",
        "y_preds\n",
        "# Inference mode basically is a way to pytorch keep track of only what matters to make predictions\n",
        "# It is basically faster computationaly\n",
        "# Good practice to use it when making predictions"
      ],
      "metadata": {
        "colab": {
          "base_uri": "https://localhost:8080/"
        },
        "id": "S-Raz94Ir6Eb",
        "outputId": "144e8327-23a7-4d22-f550-a3a5b873e25f"
      },
      "execution_count": null,
      "outputs": [
        {
          "output_type": "execute_result",
          "data": {
            "text/plain": [
              "tensor([[0.3982],\n",
              "        [0.4049],\n",
              "        [0.4116],\n",
              "        [0.4184],\n",
              "        [0.4251],\n",
              "        [0.4318],\n",
              "        [0.4386],\n",
              "        [0.4453],\n",
              "        [0.4520],\n",
              "        [0.4588]])"
            ]
          },
          "metadata": {},
          "execution_count": 73
        }
      ]
    },
    {
      "cell_type": "code",
      "source": [
        "torch.hstack((y_preds, y_test))"
      ],
      "metadata": {
        "colab": {
          "base_uri": "https://localhost:8080/"
        },
        "id": "6BZ2REDlstLG",
        "outputId": "6de62ac9-6501-4dd0-8f32-9dda144c2c52"
      },
      "execution_count": null,
      "outputs": [
        {
          "output_type": "execute_result",
          "data": {
            "text/plain": [
              "tensor([[0.3982, 0.8600],\n",
              "        [0.4049, 0.8740],\n",
              "        [0.4116, 0.8880],\n",
              "        [0.4184, 0.9020],\n",
              "        [0.4251, 0.9160],\n",
              "        [0.4318, 0.9300],\n",
              "        [0.4386, 0.9440],\n",
              "        [0.4453, 0.9580],\n",
              "        [0.4520, 0.9720],\n",
              "        [0.4588, 0.9860]])"
            ]
          },
          "metadata": {},
          "execution_count": 16
        }
      ]
    },
    {
      "cell_type": "code",
      "source": [
        "plot_predictions(predictions = y_preds) # The points are really far from the green dots"
      ],
      "metadata": {
        "colab": {
          "base_uri": "https://localhost:8080/",
          "height": 459
        },
        "id": "WF9zuUKcs2-O",
        "outputId": "42050830-d427-46b7-a8f2-d6ada58d87b7"
      },
      "execution_count": null,
      "outputs": [
        {
          "output_type": "display_data",
          "data": {
            "text/plain": [
              "<Figure size 1000x700 with 1 Axes>"
            ],
            "image/png": "[encoded data removed]"
          },
          "metadata": {}
        }
      ]
    },
    {
      "cell_type": "markdown",
      "source": [
        "## 3.Train model\n",
        "\n",
        "The idea of training is for te model to move the parameters in such a way that it better represents the data.\n",
        "\n",
        "One way to measure how bad your module performs is using a loss function.\n",
        "*Note: Loss function can be named critterion or cost function as well\n",
        "\n",
        "**Loss function:** A function which we want to minimize, it will be our measure of how good the model is.\n",
        "\n",
        "**Optimizer:** Takes into account the loss of a model and adjusts the model's parameters according to the gradient(I think) to improve the loss function.\n",
        "\n",
        "And specifically for PyTorch, we need:\n",
        "* A training loop\n",
        "* A testing loop"
      ],
      "metadata": {
        "id": "QxHsuKc8uceB"
      }
    },
    {
      "cell_type": "code",
      "source": [
        "# Setting up a loss function\n",
        "# For more loss functions: https://pytorch.org/docs/stable/nn.html#:~:text=Loss%20Functions,-nn.L1Loss&text=Creates%20a%20criterion%20that%20measures,input%20x%20and%20target%20y.&text=This%20criterion%20computes%20the%20cross%20entropy%20loss%20between%20input%20logits%20and%20target.\n",
        "\n",
        "loss_fn = nn.MSELoss()"
      ],
      "metadata": {
        "id": "MiRatTEqv48P"
      },
      "execution_count": null,
      "outputs": []
    },
    {
      "cell_type": "code",
      "source": [
        "loss_fn # Mean absolute error (kinda crap but whatever)"
      ],
      "metadata": {
        "colab": {
          "base_uri": "https://localhost:8080/"
        },
        "id": "qfbj-GA3u1FS",
        "outputId": "21664be2-4592-4701-89d7-26420a998052"
      },
      "execution_count": null,
      "outputs": [
        {
          "output_type": "execute_result",
          "data": {
            "text/plain": [
              "MSELoss()"
            ]
          },
          "metadata": {},
          "execution_count": 29
        }
      ]
    },
    {
      "cell_type": "code",
      "source": [
        "optimizer = torch.optim.SGD(params = model_0.parameters(),\n",
        "                            lr = 0.01)\n",
        "# Stochastic gradient descent (the most commom)\n",
        "# lr is the learning rate, the most important hyperparameter you can set\n",
        "# parameters are the stuff set up randomly when creating the model, the hyperparameters are set by the developer"
      ],
      "metadata": {
        "id": "um_e0B-NyjVY"
      },
      "execution_count": null,
      "outputs": []
    },
    {
      "cell_type": "markdown",
      "source": [
        "### Building a training loop and a testing loop in PyTorch\n",
        "\n",
        "A couple of things we need in a training loop:\n",
        "0. Loop through the data\n",
        "1. Forward pass (this involves data moving through our model's `forward()` functions) to make predictions on data - also called forward propagation\n",
        "2. Calculate the loss (compare forward pass predictions to ground truth labels)\n",
        "3. Optimizer zero grad\n",
        "4. Loss backward - move backwards through\n",
        "5. Optimizer step - use the optimizer to adjust our model's parameters to try and improve the loss (**gradient descent**)"
      ],
      "metadata": {
        "id": "MLK7S4IkXb3s"
      }
    },
    {
      "cell_type": "code",
      "source": [
        "# An epoch is one loop through the data... (A hyperparameter)\n",
        "epochs = 1000\n",
        "\n",
        "# 0.\n",
        "# Tracking for future improvement\n",
        "epoch_count = []\n",
        "loss_values = []\n",
        "test_loss_values = []\n",
        "\n",
        "torch.manual_seed(42)\n",
        "for epoch in range(epochs):\n",
        "  # Set the model to training mode in PyTorch sets all parameters that require gradient to have a gradient\n",
        "  model_0.train()\n",
        "\n",
        "  # 1. Forward pass\n",
        "  y_pred = model_0(X_train)\n",
        "\n",
        "  # 2. Calculate the loss\n",
        "  loss = loss_fn(y_pred, y_train)\n",
        "\n",
        "  # 3. Optimizer zero grad\n",
        "  optimizer.zero_grad()\n",
        "\n",
        "  # 4. Perform backpropagation on the loss with respect to the parameters of the model\n",
        "  loss.backward()\n",
        "\n",
        "  # 5. Step the optimizer (perform gradient descent)\n",
        "  optimizer.step()\n",
        "\n",
        "  model_0.eval() # Change mode to eval to not use things we don't need for evaluation of the model\n",
        "  with torch.inference_mode(): # turns off gradient tracking and a couple more\n",
        "    #1. Do forward pass\n",
        "    test_pred = model_0(X_test)\n",
        "\n",
        "    test_loss = loss_fn(test_pred, y_test)\n",
        "\n",
        "    if epoch % 10 == 0:\n",
        "      epoch_count.append(epoch)\n",
        "      loss_values.append(loss)\n",
        "      test_loss_values.append(test_loss)\n",
        "      #print(f\"Epoch: {epoch} | Loss: {loss} | Test loss: {test_loss}\")\n",
        "\n",
        "      #print(model_0.state_dict())\n",
        "\n",
        "\n",
        "\n",
        "# model_0.train()\n",
        "# y_pred = model_0( X_train)\n",
        "# print(f\"Loss: {loss_fn(y_pred, y_train)}\")"
      ],
      "metadata": {
        "id": "B8V9mvrSXfPc"
      },
      "execution_count": null,
      "outputs": []
    },
    {
      "cell_type": "code",
      "source": [
        "model_0.state_dict(),"
      ],
      "metadata": {
        "colab": {
          "base_uri": "https://localhost:8080/"
        },
        "id": "hukwQKHUhKkB",
        "outputId": "d4766a0b-4a25-4794-c3f9-a0d6ff1c4a28"
      },
      "execution_count": null,
      "outputs": [
        {
          "output_type": "execute_result",
          "data": {
            "text/plain": [
              "(OrderedDict([('weights', tensor([0.5998])), ('bias', tensor([0.3410]))]),)"
            ]
          },
          "metadata": {},
          "execution_count": 86
        }
      ]
    },
    {
      "cell_type": "code",
      "source": [
        "len(epoch_count)"
      ],
      "metadata": {
        "colab": {
          "base_uri": "https://localhost:8080/"
        },
        "id": "D46QqJFbMmgH",
        "outputId": "b7ad6230-45d0-45d7-c4a6-b4b204e1a7c4"
      },
      "execution_count": null,
      "outputs": [
        {
          "output_type": "execute_result",
          "data": {
            "text/plain": [
              "10"
            ]
          },
          "metadata": {},
          "execution_count": 77
        }
      ]
    },
    {
      "cell_type": "code",
      "source": [
        "len(torch.tensor(loss_values).numpy())"
      ],
      "metadata": {
        "colab": {
          "base_uri": "https://localhost:8080/"
        },
        "id": "dAtb3MLzNRtl",
        "outputId": "839bdb16-c44d-4c65-ae00-692be8c192f0"
      },
      "execution_count": null,
      "outputs": [
        {
          "output_type": "execute_result",
          "data": {
            "text/plain": [
              "10"
            ]
          },
          "metadata": {},
          "execution_count": 78
        }
      ]
    },
    {
      "cell_type": "code",
      "source": [
        "with torch.inference_mode():\n",
        "  y_preds_new = model_0(X_test)"
      ],
      "metadata": {
        "id": "iAUzWwZKm4XT"
      },
      "execution_count": null,
      "outputs": []
    },
    {
      "cell_type": "code",
      "source": [
        "plot_predictions(predictions = y_preds_new)"
      ],
      "metadata": {
        "colab": {
          "base_uri": "https://localhost:8080/",
          "height": 459
        },
        "id": "Q0k61ZQ-hNGR",
        "outputId": "709b66d6-d90c-4afb-d8a8-8380b6dee6d6"
      },
      "execution_count": null,
      "outputs": [
        {
          "output_type": "display_data",
          "data": {
            "text/plain": [
              "<Figure size 1000x700 with 1 Axes>"
            ],
            "image/png": "[encoded data removed]"
          },
          "metadata": {}
        }
      ]
    },
    {
      "cell_type": "code",
      "source": [
        "import numpy as np"
      ],
      "metadata": {
        "id": "Sqctl_0eNiTz"
      },
      "execution_count": null,
      "outputs": []
    },
    {
      "cell_type": "code",
      "source": [
        "plt.plot(epoch_count, torch.tensor(loss_values).numpy(), label = \"Train loss\")\n",
        "plt.plot(epoch_count, test_loss_values, label = \"Test loss\")\n",
        "plt.title(\"Training and test loss curves\")\n",
        "plt.ylabel(\"Loss\")"
      ],
      "metadata": {
        "id": "DN7oxjWYmlIT",
        "colab": {
          "base_uri": "https://localhost:8080/",
          "height": 469
        },
        "outputId": "d40fb07e-7760-4697-e74a-e8ce756b25a1"
      },
      "execution_count": null,
      "outputs": [
        {
          "output_type": "execute_result",
          "data": {
            "text/plain": [
              "Text(0, 0.5, 'Loss')"
            ]
          },
          "metadata": {},
          "execution_count": 94
        },
        {
          "output_type": "display_data",
          "data": {
            "text/plain": [
              "<Figure size 640x480 with 1 Axes>"
            ],
            "image/png": "[encoded data removed]"
          },
          "metadata": {}
        }
      ]
    },
    {
      "cell_type": "markdown",
      "source": [
        "## Saving a model in PyTorch\n",
        "\n",
        "There are three main methods you should know about for saving and loading models in PyTorch.\n",
        "\n",
        "1. `torch.save()` - allows you to save a PyTorch objct in pure Python's pickel format\n",
        "\n",
        "2. `torch.load()`- allow you to load a saved PyTorch object\n",
        "\n",
        "3. `torch.nn.Module.load_state_dict()`- this allows to laod a model's saved state dictionary"
      ],
      "metadata": {
        "id": "RJGkzA4sQIjl"
      }
    },
    {
      "cell_type": "code",
      "source": [
        "model_0.state_dict()"
      ],
      "metadata": {
        "colab": {
          "base_uri": "https://localhost:8080/"
        },
        "id": "7dWvWFcDQ3Mw",
        "outputId": "d16db4f9-68ad-4027-e694-95bcff737118"
      },
      "execution_count": null,
      "outputs": [
        {
          "output_type": "execute_result",
          "data": {
            "text/plain": [
              "OrderedDict([('weights', tensor([0.5998])), ('bias', tensor([0.3410]))])"
            ]
          },
          "metadata": {},
          "execution_count": 95
        }
      ]
    },
    {
      "cell_type": "code",
      "source": [
        "optimizer.state_dict()"
      ],
      "metadata": {
        "colab": {
          "base_uri": "https://localhost:8080/"
        },
        "id": "POVg-rRBROtl",
        "outputId": "4e156cca-e70e-47e4-c4b6-a2fe0b9cd338"
      },
      "execution_count": null,
      "outputs": [
        {
          "output_type": "execute_result",
          "data": {
            "text/plain": [
              "{'state': {0: {'momentum_buffer': None}, 1: {'momentum_buffer': None}},\n",
              " 'param_groups': [{'lr': 0.01,\n",
              "   'momentum': 0,\n",
              "   'dampening': 0,\n",
              "   'weight_decay': 0,\n",
              "   'nesterov': False,\n",
              "   'maximize': False,\n",
              "   'foreach': None,\n",
              "   'differentiable': False,\n",
              "   'params': [0, 1]}]}"
            ]
          },
          "metadata": {},
          "execution_count": 96
        }
      ]
    },
    {
      "cell_type": "code",
      "source": [
        "# Saving our PyTorch model\n",
        "\n",
        "from pathlib import Path\n",
        "\n",
        "# 1. Create models directory\n",
        "MODEL_PATH = Path(\"models\")\n",
        "MODEL_PATH.mkdir(parents = True, exist_ok = True)\n",
        "\n",
        "# 2. Create model save path\n",
        "MODEL_NAME = \"01_pytorch_workflow_model_0.pth\"\n",
        "MODEL_SAVE_PATH = MODEL_PATH / MODEL_NAME\n",
        "\n",
        "# 3. Saving the model's state_dict\n",
        "torch.save(model_0.state_dict(), MODEL_SAVE_PATH)"
      ],
      "metadata": {
        "id": "6FJrrrsFRheC"
      },
      "execution_count": 105,
      "outputs": []
    },
    {
      "cell_type": "code",
      "source": [
        "!ls -l models"
      ],
      "metadata": {
        "id": "5GzuHQBTSddk",
        "colab": {
          "base_uri": "https://localhost:8080/"
        },
        "outputId": "23c2e8bd-fc97-45fd-dd20-aa0db575d7e9"
      },
      "execution_count": 106,
      "outputs": [
        {
          "output_type": "stream",
          "name": "stdout",
          "text": [
            "total 4\n",
            "-rw-r--r-- 1 root root 1207 Aug 13 00:36 01_pytorch_workflow_model_0.pth\n"
          ]
        }
      ]
    },
    {
      "cell_type": "code",
      "source": [
        "model_0_restored = LinearRegressionModel()\n",
        "model_0_restored.load_state_dict(torch.load(MODEL_SAVE_PATH))\n",
        "# weird\n",
        "model_0_restored.eval()"
      ],
      "metadata": {
        "colab": {
          "base_uri": "https://localhost:8080/"
        },
        "id": "f-xj2wgsTQNK",
        "outputId": "dfd480be-7a3f-4093-d887-f1e9a2ab9b37"
      },
      "execution_count": 107,
      "outputs": [
        {
          "output_type": "execute_result",
          "data": {
            "text/plain": [
              "LinearRegressionModel()"
            ]
          },
          "metadata": {},
          "execution_count": 107
        }
      ]
    },
    {
      "cell_type": "code",
      "source": [
        "model_0_restored.state_dict()"
      ],
      "metadata": {
        "colab": {
          "base_uri": "https://localhost:8080/"
        },
        "id": "W2vr0JH7UeB4",
        "outputId": "3f2ad7f7-09e3-460c-8054-331344f96f77"
      },
      "execution_count": 109,
      "outputs": [
        {
          "output_type": "execute_result",
          "data": {
            "text/plain": [
              "OrderedDict([('weights', tensor([0.5998])), ('bias', tensor([0.3410]))])"
            ]
          },
          "metadata": {},
          "execution_count": 109
        }
      ]
    },
    {
      "cell_type": "code",
      "source": [
        "model_0_restored.eval()\n",
        "with torch.inference_mode():\n",
        "  model_0_restored_preds = model_0_restored(X_test)\n",
        "\n",
        "model_0_restored_preds"
      ],
      "metadata": {
        "colab": {
          "base_uri": "https://localhost:8080/"
        },
        "id": "xmXsJA1NWMcH",
        "outputId": "55c8427f-7bf9-40bb-e604-0e1b39ebb983"
      },
      "execution_count": 115,
      "outputs": [
        {
          "output_type": "execute_result",
          "data": {
            "text/plain": [
              "tensor([[0.8208],\n",
              "        [0.8328],\n",
              "        [0.8448],\n",
              "        [0.8568],\n",
              "        [0.8688],\n",
              "        [0.8808],\n",
              "        [0.8928],\n",
              "        [0.9048],\n",
              "        [0.9168],\n",
              "        [0.9288]])"
            ]
          },
          "metadata": {},
          "execution_count": 115
        }
      ]
    },
    {
      "cell_type": "code",
      "source": [
        "model_0.eval()\n",
        "with torch.inference_mode():\n",
        "  model_0_preds = model_0(X_test)\n",
        "\n",
        "model_0_preds"
      ],
      "metadata": {
        "colab": {
          "base_uri": "https://localhost:8080/"
        },
        "id": "9M-KYVhsWklm",
        "outputId": "af0b515b-7dc5-4ade-b35a-1c7082f18e01"
      },
      "execution_count": 116,
      "outputs": [
        {
          "output_type": "execute_result",
          "data": {
            "text/plain": [
              "tensor([[0.8208],\n",
              "        [0.8328],\n",
              "        [0.8448],\n",
              "        [0.8568],\n",
              "        [0.8688],\n",
              "        [0.8808],\n",
              "        [0.8928],\n",
              "        [0.9048],\n",
              "        [0.9168],\n",
              "        [0.9288]])"
            ]
          },
          "metadata": {},
          "execution_count": 116
        }
      ]
    },
    {
      "cell_type": "code",
      "source": [
        "model_0_preds == model_0_restored_preds"
      ],
      "metadata": {
        "colab": {
          "base_uri": "https://localhost:8080/"
        },
        "id": "tRG8LCF3WpKG",
        "outputId": "88b09ec3-568c-4aa9-83fd-c6d314ccebcf"
      },
      "execution_count": 117,
      "outputs": [
        {
          "output_type": "execute_result",
          "data": {
            "text/plain": [
              "tensor([[True],\n",
              "        [True],\n",
              "        [True],\n",
              "        [True],\n",
              "        [True],\n",
              "        [True],\n",
              "        [True],\n",
              "        [True],\n",
              "        [True],\n",
              "        [True]])"
            ]
          },
          "metadata": {},
          "execution_count": 117
        }
      ]
    },
    {
      "cell_type": "markdown",
      "source": [
        "##6. Putting it all together\n",
        "\n",
        "Lets review!!"
      ],
      "metadata": {
        "id": "8i4JGTS7WruU"
      }
    },
    {
      "cell_type": "code",
      "source": [
        "# Importing PyTorch and matplotlib\n",
        "import torch, matplotlib.pyplot as plt, numpy as np"
      ],
      "metadata": {
        "id": "eqvkeHNYXVJA"
      },
      "execution_count": 119,
      "outputs": []
    },
    {
      "cell_type": "code",
      "source": [
        "### 1. Data\n",
        "\n",
        "bias = 0.3\n",
        "weight = 0.7\n",
        "\n",
        "X = torch.arange(0, 1, step = 0.02).unsqueeze(dim = 1)\n",
        "y = weight * X + bias\n",
        "\n",
        "plt.plot(X, y);"
      ],
      "metadata": {
        "colab": {
          "base_uri": "https://localhost:8080/",
          "height": 430
        },
        "id": "ZewaOV5uXu4M",
        "outputId": "ca0f56af-a76a-4d62-87af-e31780e4fcc8"
      },
      "execution_count": 162,
      "outputs": [
        {
          "output_type": "display_data",
          "data": {
            "text/plain": [
              "<Figure size 640x480 with 1 Axes>"
            ],
            "image/png": "[encoded data removed]"
          },
          "metadata": {}
        }
      ]
    },
    {
      "cell_type": "code",
      "source": [
        "cut = int(len(X) * 0.8)\n",
        "X_train = X[0: cut]\n",
        "y_train = y[0: cut]\n",
        "\n",
        "X_test = X[cut: len(X)]\n",
        "y_test = y[cut: len(y)] # could be len(X) as well\n"
      ],
      "metadata": {
        "id": "0LMOWzHwXzrA"
      },
      "execution_count": 176,
      "outputs": []
    },
    {
      "cell_type": "code",
      "source": [
        "def plot_predictions(train_data = X_train,\n",
        "                     train_labels = y_train,\n",
        "                     test_data = X_test,\n",
        "                     test_labels = y_test,\n",
        "                     predictions = None):\n",
        "  plt.figure(figsize = (10, 7))\n",
        "\n",
        "  # Training data\n",
        "  plt.scatter(train_data, train_labels, c = \"b\", s = 4, label = \"Training data\")\n",
        "\n",
        "  # Test data\n",
        "  plt.scatter(test_data, test_labels, c = \"g\", s = 4, label = \"Testing data\")\n",
        "\n",
        "  if predictions is not None:\n",
        "    plt.scatter(test_data, predictions)\n",
        "\n",
        "  plt.legend(prop = {\"size\" : 14})"
      ],
      "metadata": {
        "id": "Jzmu7PaDZsIi"
      },
      "execution_count": 177,
      "outputs": []
    },
    {
      "cell_type": "code",
      "source": [
        "#2. Build a model"
      ],
      "metadata": {
        "id": "EwZyenyeZ3hB"
      },
      "execution_count": 178,
      "outputs": []
    },
    {
      "cell_type": "code",
      "source": [
        "class LinearRegressionModel(nn.Module):\n",
        "  def __init__(self):\n",
        "    super().__init__()\n",
        "    self.weight = nn.Parameter(torch.randn(1))\n",
        "    self.bias = nn.Parameter(torch.randn(1))\n",
        "\n",
        "  def forward(self, x:torch.Tensor) -> torch.Tensor:\n",
        "    return x * self.weight + self.bias"
      ],
      "metadata": {
        "id": "Lx_iDbFOacEd"
      },
      "execution_count": 179,
      "outputs": []
    },
    {
      "cell_type": "code",
      "source": [
        "model = LinearRegressionModel()\n",
        "model.state_dict()"
      ],
      "metadata": {
        "colab": {
          "base_uri": "https://localhost:8080/"
        },
        "id": "WAVVQEFzbhTt",
        "outputId": "96b8d6d1-59fb-4006-95e1-4482c3d97092"
      },
      "execution_count": 217,
      "outputs": [
        {
          "output_type": "execute_result",
          "data": {
            "text/plain": [
              "OrderedDict([('weight', tensor([1.3525])), ('bias', tensor([0.6863]))])"
            ]
          },
          "metadata": {},
          "execution_count": 217
        }
      ]
    },
    {
      "cell_type": "code",
      "source": [
        "model.eval()\n",
        "with torch.inference_mode():\n",
        "  y_guess = model(X_test)\n",
        "torch.hstack((y_preds, y_test))"
      ],
      "metadata": {
        "colab": {
          "base_uri": "https://localhost:8080/",
          "height": 210
        },
        "id": "SocmAY6pbwT2",
        "outputId": "178dc52b-e1da-4b25-f415-43c985d73796"
      },
      "execution_count": 218,
      "outputs": [
        {
          "output_type": "error",
          "ename": "RuntimeError",
          "evalue": "ignored",
          "traceback": [
            "\u001b[0;31m---------------------------------------------------------------------------\u001b[0m",
            "\u001b[0;31mRuntimeError\u001b[0m                              Traceback (most recent call last)",
            "\u001b[0;32m<ipython-input-218-e0d8bdaaccb1>\u001b[0m in \u001b[0;36m<cell line: 4>\u001b[0;34m()\u001b[0m\n\u001b[1;32m      2\u001b[0m \u001b[0;32mwith\u001b[0m \u001b[0mtorch\u001b[0m\u001b[0;34m.\u001b[0m\u001b[0minference_mode\u001b[0m\u001b[0;34m(\u001b[0m\u001b[0;34m)\u001b[0m\u001b[0;34m:\u001b[0m\u001b[0;34m\u001b[0m\u001b[0;34m\u001b[0m\u001b[0m\n\u001b[1;32m      3\u001b[0m   \u001b[0my_guess\u001b[0m \u001b[0;34m=\u001b[0m \u001b[0mmodel\u001b[0m\u001b[0;34m(\u001b[0m\u001b[0mX_test\u001b[0m\u001b[0;34m)\u001b[0m\u001b[0;34m\u001b[0m\u001b[0;34m\u001b[0m\u001b[0m\n\u001b[0;32m----> 4\u001b[0;31m \u001b[0mtorch\u001b[0m\u001b[0;34m.\u001b[0m\u001b[0mhstack\u001b[0m\u001b[0;34m(\u001b[0m\u001b[0;34m(\u001b[0m\u001b[0my_preds\u001b[0m\u001b[0;34m,\u001b[0m \u001b[0my_test\u001b[0m\u001b[0;34m)\u001b[0m\u001b[0;34m)\u001b[0m\u001b[0;34m\u001b[0m\u001b[0;34m\u001b[0m\u001b[0m\n\u001b[0m",
            "\u001b[0;31mRuntimeError\u001b[0m: Sizes of tensors must match except in dimension 1. Expected size 40 but got size 10 for tensor number 1 in the list."
          ]
        }
      ]
    },
    {
      "cell_type": "code",
      "source": [
        "y_guess"
      ],
      "metadata": {
        "colab": {
          "base_uri": "https://localhost:8080/"
        },
        "id": "GR4hdTOmcwzv",
        "outputId": "df9ff616-cf4f-440f-e8d4-d896fb77930d"
      },
      "execution_count": 219,
      "outputs": [
        {
          "output_type": "execute_result",
          "data": {
            "text/plain": [
              "tensor([[1.7684],\n",
              "        [1.7954],\n",
              "        [1.8225],\n",
              "        [1.8495],\n",
              "        [1.8766],\n",
              "        [1.9036],\n",
              "        [1.9307],\n",
              "        [1.9577],\n",
              "        [1.9848],\n",
              "        [2.0118]])"
            ]
          },
          "metadata": {},
          "execution_count": 219
        }
      ]
    },
    {
      "cell_type": "code",
      "source": [
        "plot_predictions(predictions = y_guess)"
      ],
      "metadata": {
        "colab": {
          "base_uri": "https://localhost:8080/",
          "height": 599
        },
        "id": "jmTaNJBadDTL",
        "outputId": "d0b5fd40-b727-4ffe-d7da-0b03e7da49bb"
      },
      "execution_count": 220,
      "outputs": [
        {
          "output_type": "display_data",
          "data": {
            "text/plain": [
              "<Figure size 1000x700 with 1 Axes>"
            ],
            "image/png": "[encoded data removed]"
          },
          "metadata": {}
        }
      ]
    },
    {
      "cell_type": "code",
      "source": [
        "# 3. Training the model"
      ],
      "metadata": {
        "id": "2L0GlGksdy3D"
      },
      "execution_count": 184,
      "outputs": []
    },
    {
      "cell_type": "code",
      "source": [
        "loss_fn = nn.MSELoss()"
      ],
      "metadata": {
        "id": "FMvbgQPEeVjW"
      },
      "execution_count": 221,
      "outputs": []
    },
    {
      "cell_type": "code",
      "source": [
        "optimizer = torch.optim.SGD(lr = 0.01,\n",
        "                                 params = model.parameters())"
      ],
      "metadata": {
        "id": "xcPvt2Hmer6u"
      },
      "execution_count": 222,
      "outputs": []
    },
    {
      "cell_type": "code",
      "source": [
        "# Training loop\n",
        "epochs = 1000\n",
        "\n",
        "train_losses = []\n",
        "test_losses = []\n",
        "epoch_list = []\n",
        "\n",
        "\n",
        "for epoch in range(epochs):\n",
        "  # Training loop\n",
        "  model.train()\n",
        "\n",
        "  y_preds = model.forward(X_train)\n",
        "  #print(torch.hstack((y_preds, y_train)))\n",
        "  loss = loss_fn(y_preds, y_train)\n",
        "\n",
        "  optimizer.zero_grad()\n",
        "\n",
        "  loss.backward()\n",
        "\n",
        "  optimizer.step()\n",
        "\n",
        "  # Evaluation loop\n",
        "\n",
        "  with torch.inference_mode():\n",
        "    model.eval()\n",
        "\n",
        "    y_test_pred = model.forward(y_test)\n",
        "    test_loss = loss_fn(y_test_pred, y_test)\n",
        "\n",
        "    train_losses.append(loss)\n",
        "    test_losses.append(test_loss)\n",
        "    epoch_list.append(epoch)\n",
        "\n"
      ],
      "metadata": {
        "id": "XtGQ5DCJfBTs"
      },
      "execution_count": 223,
      "outputs": []
    },
    {
      "cell_type": "code",
      "source": [
        "plt.plot(epoch_list, test_losses)\n",
        "plt.plot(epoch_list, torch.tensor(train_losses).numpy())"
      ],
      "metadata": {
        "colab": {
          "base_uri": "https://localhost:8080/",
          "height": 447
        },
        "id": "_TE-Rs7IgM4x",
        "outputId": "bbd1edc0-6e66-414a-ae01-bcb7a7e2398a"
      },
      "execution_count": 224,
      "outputs": [
        {
          "output_type": "execute_result",
          "data": {
            "text/plain": [
              "[<matplotlib.lines.Line2D at 0x7d6950813400>]"
            ]
          },
          "metadata": {},
          "execution_count": 224
        },
        {
          "output_type": "display_data",
          "data": {
            "text/plain": [
              "<Figure size 640x480 with 1 Axes>"
            ],
            "image/png": "[encoded data removed]"
          },
          "metadata": {}
        }
      ]
    },
    {
      "cell_type": "code",
      "source": [],
      "metadata": {
        "id": "CMrJ2_GcjwR4"
      },
      "execution_count": null,
      "outputs": []
    }
  ]
}