{
  "nbformat": 4,
  "nbformat_minor": 0,
  "metadata": {
    "colab": {
      "provenance": [],
      "authorship_tag": "ABX9TyOO+oGYmReJ5JPiAbzQhe4n",
      "include_colab_link": true
    },
    "kernelspec": {
      "name": "python3",
      "display_name": "Python 3"
    },
    "language_info": {
      "name": "python"
    }
  },
  "cells": [
    {
      "cell_type": "markdown",
      "metadata": {
        "id": "view-in-github",
        "colab_type": "text"
      },
      "source": [
        "<a href=\"https://colab.research.google.com/github/arthurzaneti/pytorch-fundamentals/blob/main/01_pytorch_workflow.ipynb\" target=\"_parent\"><img src=\"https://colab.research.google.com/assets/colab-badge.svg\" alt=\"Open In Colab\"/></a>"
      ]
    },
    {
      "cell_type": "markdown",
      "source": [
        "# Pytorch Workflow"
      ],
      "metadata": {
        "id": "QxgR-8hTvunH"
      }
    },
    {
      "cell_type": "markdown",
      "source": [
        "We are gonna go trough:\n",
        "1. \"data (prepare and load)\",\n",
        "2. \"build model\",\n",
        "3. \"fitting the model to data(training)\"\n",
        "4. \"making predicions and evaluating a model\"\n",
        "5. \"save and reload\""
      ],
      "metadata": {
        "id": "Nz8eCnwAwg0_"
      }
    },
    {
      "cell_type": "code",
      "source": [
        "import torch\n",
        "from torch import nn #neural networks\n",
        "import matplotlib.pyplot as plt\n",
        "\n",
        "# Check PyTorch version\n",
        "torch.__version__"
      ],
      "metadata": {
        "colab": {
          "base_uri": "https://localhost:8080/",
          "height": 35
        },
        "id": "qbBLEoeXw_mA",
        "outputId": "093c06c5-d734-4ce1-807b-d3b15d7c6332"
      },
      "execution_count": 1,
      "outputs": [
        {
          "output_type": "execute_result",
          "data": {
            "text/plain": [
              "'2.0.1+cu118'"
            ],
            "application/vnd.google.colaboratory.intrinsic+json": {
              "type": "string"
            }
          },
          "metadata": {},
          "execution_count": 1
        }
      ]
    },
    {
      "cell_type": "markdown",
      "source": [
        "## Data: preparing and loading"
      ],
      "metadata": {
        "id": "sR2lzFJmxeDe"
      }
    },
    {
      "cell_type": "markdown",
      "source": [
        "Data is a REALLY genneral term in ML, so it can be almost anything"
      ],
      "metadata": {
        "id": "AlhgK2Jkxs7N"
      }
    },
    {
      "cell_type": "markdown",
      "source": [
        "We'll use a linear regression formula to make a straight lne with known parameters."
      ],
      "metadata": {
        "id": "d-E5FtOkx8fn"
      }
    },
    {
      "cell_type": "code",
      "source": [
        "# Creating *known* parameters\n",
        "\n",
        "weight = 0.7\n",
        "bias = 0.3\n",
        "\n",
        "# Create the values\n",
        "X = torch.arange(0, 1, 0.02).unsqueeze(dim = 1)\n",
        "y = weight * X + bias"
      ],
      "metadata": {
        "id": "1M_T7Rbhy2F4"
      },
      "execution_count": 2,
      "outputs": []
    },
    {
      "cell_type": "code",
      "source": [
        "torch.hstack((X, y))"
      ],
      "metadata": {
        "colab": {
          "base_uri": "https://localhost:8080/"
        },
        "id": "JzR2bIEPzbrY",
        "outputId": "70afad79-6200-48fd-a99e-58703ba744ea"
      },
      "execution_count": 3,
      "outputs": [
        {
          "output_type": "execute_result",
          "data": {
            "text/plain": [
              "tensor([[0.0000, 0.3000],\n",
              "        [0.0200, 0.3140],\n",
              "        [0.0400, 0.3280],\n",
              "        [0.0600, 0.3420],\n",
              "        [0.0800, 0.3560],\n",
              "        [0.1000, 0.3700],\n",
              "        [0.1200, 0.3840],\n",
              "        [0.1400, 0.3980],\n",
              "        [0.1600, 0.4120],\n",
              "        [0.1800, 0.4260],\n",
              "        [0.2000, 0.4400],\n",
              "        [0.2200, 0.4540],\n",
              "        [0.2400, 0.4680],\n",
              "        [0.2600, 0.4820],\n",
              "        [0.2800, 0.4960],\n",
              "        [0.3000, 0.5100],\n",
              "        [0.3200, 0.5240],\n",
              "        [0.3400, 0.5380],\n",
              "        [0.3600, 0.5520],\n",
              "        [0.3800, 0.5660],\n",
              "        [0.4000, 0.5800],\n",
              "        [0.4200, 0.5940],\n",
              "        [0.4400, 0.6080],\n",
              "        [0.4600, 0.6220],\n",
              "        [0.4800, 0.6360],\n",
              "        [0.5000, 0.6500],\n",
              "        [0.5200, 0.6640],\n",
              "        [0.5400, 0.6780],\n",
              "        [0.5600, 0.6920],\n",
              "        [0.5800, 0.7060],\n",
              "        [0.6000, 0.7200],\n",
              "        [0.6200, 0.7340],\n",
              "        [0.6400, 0.7480],\n",
              "        [0.6600, 0.7620],\n",
              "        [0.6800, 0.7760],\n",
              "        [0.7000, 0.7900],\n",
              "        [0.7200, 0.8040],\n",
              "        [0.7400, 0.8180],\n",
              "        [0.7600, 0.8320],\n",
              "        [0.7800, 0.8460],\n",
              "        [0.8000, 0.8600],\n",
              "        [0.8200, 0.8740],\n",
              "        [0.8400, 0.8880],\n",
              "        [0.8600, 0.9020],\n",
              "        [0.8800, 0.9160],\n",
              "        [0.9000, 0.9300],\n",
              "        [0.9200, 0.9440],\n",
              "        [0.9400, 0.9580],\n",
              "        [0.9600, 0.9720],\n",
              "        [0.9800, 0.9860]])"
            ]
          },
          "metadata": {},
          "execution_count": 3
        }
      ]
    },
    {
      "cell_type": "code",
      "source": [
        "plt.plot(X, y)"
      ],
      "metadata": {
        "colab": {
          "base_uri": "https://localhost:8080/",
          "height": 447
        },
        "id": "HLnlXght0STT",
        "outputId": "afa39716-b621-4adb-e2b3-047213e429bc"
      },
      "execution_count": 4,
      "outputs": [
        {
          "output_type": "execute_result",
          "data": {
            "text/plain": [
              "[<matplotlib.lines.Line2D at 0x7ef5202f8190>]"
            ]
          },
          "metadata": {},
          "execution_count": 4
        },
        {
          "output_type": "display_data",
          "data": {
            "text/plain": [
              "<Figure size 640x480 with 1 Axes>"
            ],
            "image/png": "[encoded data removed]"
          },
          "metadata": {}
        }
      ]
    },
    {
      "cell_type": "code",
      "source": [
        "len(X)"
      ],
      "metadata": {
        "colab": {
          "base_uri": "https://localhost:8080/"
        },
        "id": "p4qd_z7pzkeF",
        "outputId": "a22e179c-4415-410c-d520-960530fa8b0a"
      },
      "execution_count": 5,
      "outputs": [
        {
          "output_type": "execute_result",
          "data": {
            "text/plain": [
              "50"
            ]
          },
          "metadata": {},
          "execution_count": 5
        }
      ]
    },
    {
      "cell_type": "code",
      "source": [
        "# Train and test split\n",
        "\n",
        "X_train, y_train = X[0: int(0.8 * len(X))], y[0: int(0.8 * len(X))]\n",
        "X_test, y_test = X[int(0.8 * len(X)):], y[int(0.8 * len(X)):]"
      ],
      "metadata": {
        "id": "OiI_K0SL1gT7"
      },
      "execution_count": 6,
      "outputs": []
    },
    {
      "cell_type": "code",
      "source": [
        "len(X_train), len(y_train)"
      ],
      "metadata": {
        "colab": {
          "base_uri": "https://localhost:8080/"
        },
        "id": "MfVlZRtZ2Jo6",
        "outputId": "f500bb13-a6db-4398-d813-d98ee63a8ebd"
      },
      "execution_count": 7,
      "outputs": [
        {
          "output_type": "execute_result",
          "data": {
            "text/plain": [
              "(40, 40)"
            ]
          },
          "metadata": {},
          "execution_count": 7
        }
      ]
    },
    {
      "cell_type": "code",
      "source": [
        "len(X_test), len(y_test)"
      ],
      "metadata": {
        "colab": {
          "base_uri": "https://localhost:8080/"
        },
        "id": "shAIhuMV2N4H",
        "outputId": "80ffe54e-27b1-4a02-91e9-f238709d30cd"
      },
      "execution_count": 8,
      "outputs": [
        {
          "output_type": "execute_result",
          "data": {
            "text/plain": [
              "(10, 10)"
            ]
          },
          "metadata": {},
          "execution_count": 8
        }
      ]
    },
    {
      "cell_type": "code",
      "source": [
        "def plot_predictions(train_data = X_train,\n",
        "                     train_labels = y_train,\n",
        "                     test_data = X_test,\n",
        "                     test_labels = y_test,\n",
        "                     predictions = None):\n",
        "  plt.figure(figsize = (10, 7))\n",
        "\n",
        "  # Training data\n",
        "  plt.scatter(train_data, train_labels, c = \"b\", s = 4, label = \"Training data\")\n",
        "\n",
        "  # Test data\n",
        "  plt.scatter(test_data, test_labels, c = \"g\", s = 4, label = \"Testing data\")\n",
        "\n",
        "  if predictions is not None:\n",
        "    plt.scatter(test_data, predictions)\n",
        "\n",
        "  plt.legend(prop = {\"size\" : 14})"
      ],
      "metadata": {
        "id": "i854oFs22RaH"
      },
      "execution_count": 9,
      "outputs": []
    },
    {
      "cell_type": "code",
      "source": [
        "plot_predictions()"
      ],
      "metadata": {
        "colab": {
          "base_uri": "https://localhost:8080/",
          "height": 581
        },
        "id": "0ri-L96i4Zdl",
        "outputId": "8dac169c-df7c-4879-875b-52fd17eba061"
      },
      "execution_count": 10,
      "outputs": [
        {
          "output_type": "display_data",
          "data": {
            "text/plain": [
              "<Figure size 1000x700 with 1 Axes>"
            ],
            "image/png": "[encoded data removed]"
          },
          "metadata": {}
        }
      ]
    },
    {
      "cell_type": "markdown",
      "source": [
        "## 2.Build a model\n",
        "\n",
        "Exciting!!!\n",
        "\n",
        "What our model does:\n",
        "* Start with random values (weight and bias)\n",
        "* Look at the training data and adjust the random values to better represent the ideal values\n",
        "\n",
        "How does it do so?\n",
        "\n",
        "1. Gradient descent\n",
        "2. Backpropagation"
      ],
      "metadata": {
        "id": "zS2KWFns4mZp"
      }
    },
    {
      "cell_type": "code",
      "source": [
        "class LinearRegressionModel(nn.Module): #POOP (Python Object orientated programming in Python obviously...)\n",
        "  # Almost everything in PyTorch inherits nn.model\n",
        "  # Putting this inside the parenteses says it inherits nn.Module\n",
        "\n",
        "  def __init__(self):\n",
        "    super().__init__()\n",
        "    self.weights = nn.Parameter(torch.randn(1,\n",
        "                                            requires_grad = True,\n",
        "                                            dtype = torch.float))\n",
        "    self.bias = nn.Parameter(torch.randn(1,\n",
        "                                         requires_grad = True,\n",
        "                                         dtype = torch.float))\n",
        "  # Forward method to define the computation in the nn model\n",
        "\n",
        "  def forward(self, x: torch.Tensor) -> torch.Tensor:\n",
        "    return self.weights * x + self.bias"
      ],
      "metadata": {
        "id": "lyAo7FFMs_rU"
      },
      "execution_count": 22,
      "outputs": []
    },
    {
      "cell_type": "markdown",
      "source": [
        "### PyTorch model building essentials\n",
        "\n",
        "* torch.nn - contains all of the building blocks for computational graphs(neural network in our case)\n",
        "* torch.nn.Parameter - What parameters should our model try and learn, often a PyTorch layer from torch.nn will set these for us\n",
        "* torch.nn.Module - The base class for all neural network modules, if you subclass it, you should overwrite forward()\n",
        "8 torch.optim - this is where the optimizers in PyTorch live, the functions that implement gradient descent\n",
        "* def forward() - All nn.Module subclasses require you to overwrite forward(), this method defines what happens in the forward method"
      ],
      "metadata": {
        "id": "FhgCtasZuhev"
      }
    },
    {
      "cell_type": "code",
      "source": [
        "### Checking the contents of our PyTorch model\n",
        "\n",
        "torch.manual_seed(42) # for reproducibility\n",
        "\n",
        "model_0 = LinearRegressionModel()\n",
        "\n",
        "list(model_0.parameters())"
      ],
      "metadata": {
        "colab": {
          "base_uri": "https://localhost:8080/"
        },
        "id": "Ke0tzYakozXo",
        "outputId": "4da24d6e-fbd1-4cf3-ca4c-5db943c0e767"
      },
      "execution_count": 23,
      "outputs": [
        {
          "output_type": "execute_result",
          "data": {
            "text/plain": [
              "[Parameter containing:\n",
              " tensor([0.3367], requires_grad=True),\n",
              " Parameter containing:\n",
              " tensor([0.1288], requires_grad=True)]"
            ]
          },
          "metadata": {},
          "execution_count": 23
        }
      ]
    },
    {
      "cell_type": "code",
      "source": [
        "model_0.state_dict()"
      ],
      "metadata": {
        "colab": {
          "base_uri": "https://localhost:8080/"
        },
        "id": "rFO3n7Naq5tl",
        "outputId": "46756a3d-fcba-4cd8-be87-465749144d5a"
      },
      "execution_count": 24,
      "outputs": [
        {
          "output_type": "execute_result",
          "data": {
            "text/plain": [
              "OrderedDict([('weights', tensor([0.3367])), ('bias', tensor([0.1288]))])"
            ]
          },
          "metadata": {},
          "execution_count": 24
        }
      ]
    },
    {
      "cell_type": "code",
      "source": [
        "weight, bias"
      ],
      "metadata": {
        "colab": {
          "base_uri": "https://localhost:8080/"
        },
        "id": "vARyo1SYrSZT",
        "outputId": "9e104227-7f03-4901-ca24-142cec6d80bf"
      },
      "execution_count": 25,
      "outputs": [
        {
          "output_type": "execute_result",
          "data": {
            "text/plain": [
              "(0.7, 0.3)"
            ]
          },
          "metadata": {},
          "execution_count": 25
        }
      ]
    },
    {
      "cell_type": "markdown",
      "source": [
        "The whole point of machine learning is to get the parameters of our model to be as close as possible to the real values"
      ],
      "metadata": {
        "id": "Qpn7vy3RrUCg"
      }
    },
    {
      "cell_type": "markdown",
      "source": [
        "### Making predictions using `torch.inference_mode()`\n",
        "\n",
        "To check our model's power lets see how well it performs in prediction y_test based on X_test with its current values"
      ],
      "metadata": {
        "id": "cxVSiYG6rbTv"
      }
    },
    {
      "cell_type": "code",
      "source": [
        "with torch.inference_mode():\n",
        "  y_preds = model_0(X_test)\n",
        "\n",
        "y_preds\n",
        "# Inference mode basically is a way to pytorch keep track of only what matters to make predictions\n",
        "# It is basically faster computationaly\n",
        "# Good practice to use it when making predictions"
      ],
      "metadata": {
        "colab": {
          "base_uri": "https://localhost:8080/"
        },
        "id": "S-Raz94Ir6Eb",
        "outputId": "ccf4d381-4b90-4dbb-fb65-607e3d40b5c6"
      },
      "execution_count": 26,
      "outputs": [
        {
          "output_type": "execute_result",
          "data": {
            "text/plain": [
              "tensor([[0.3982],\n",
              "        [0.4049],\n",
              "        [0.4116],\n",
              "        [0.4184],\n",
              "        [0.4251],\n",
              "        [0.4318],\n",
              "        [0.4386],\n",
              "        [0.4453],\n",
              "        [0.4520],\n",
              "        [0.4588]])"
            ]
          },
          "metadata": {},
          "execution_count": 26
        }
      ]
    },
    {
      "cell_type": "code",
      "source": [
        "torch.hstack((y_preds, y_test))"
      ],
      "metadata": {
        "colab": {
          "base_uri": "https://localhost:8080/"
        },
        "id": "6BZ2REDlstLG",
        "outputId": "9a6eaa85-e3dc-417a-d256-5c6068d109d2"
      },
      "execution_count": 29,
      "outputs": [
        {
          "output_type": "execute_result",
          "data": {
            "text/plain": [
              "tensor([[0.3982, 0.8600],\n",
              "        [0.4049, 0.8740],\n",
              "        [0.4116, 0.8880],\n",
              "        [0.4184, 0.9020],\n",
              "        [0.4251, 0.9160],\n",
              "        [0.4318, 0.9300],\n",
              "        [0.4386, 0.9440],\n",
              "        [0.4453, 0.9580],\n",
              "        [0.4520, 0.9720],\n",
              "        [0.4588, 0.9860]])"
            ]
          },
          "metadata": {},
          "execution_count": 29
        }
      ]
    },
    {
      "cell_type": "code",
      "source": [
        "plot_predictions(predictions = y_preds) # The points are really far from the green dots"
      ],
      "metadata": {
        "colab": {
          "base_uri": "https://localhost:8080/",
          "height": 619
        },
        "id": "WF9zuUKcs2-O",
        "outputId": "97d330f2-5f86-4533-b808-6b393e347545"
      },
      "execution_count": 30,
      "outputs": [
        {
          "output_type": "display_data",
          "data": {
            "text/plain": [
              "<Figure size 1000x700 with 1 Axes>"
            ],
            "image/png": "[encoded data removed]"
          },
          "metadata": {}
        }
      ]
    },
    {
      "cell_type": "markdown",
      "source": [
        "## 3. Train model\n",
        "\n",
        "The idea of training is for te model to move the parameters in such a way that it better represents the data.\n",
        "\n",
        "One way to measure how bad your module performs is using a loss function.\n",
        "*Note: Loss function can be named critterion or cost function as well\n",
        "\n",
        "**Loss function:** A function which we want to minimize, it will be our measure of how good the model is.\n",
        "\n",
        "**Optimizer:** Takes into account the loss of a model and adjusts the model's parameters according to the gradient(I think) to improve the loss function.\n",
        "\n",
        "And specifically for PyTorch, we need:\n",
        "* A training loop\n",
        "* A testing loop"
      ],
      "metadata": {
        "id": "QxHsuKc8uceB"
      }
    },
    {
      "cell_type": "code",
      "source": [
        "# Setting up a loss function\n",
        "# For more loss functions: https://pytorch.org/docs/stable/nn.html#:~:text=Loss%20Functions,-nn.L1Loss&text=Creates%20a%20criterion%20that%20measures,input%20x%20and%20target%20y.&text=This%20criterion%20computes%20the%20cross%20entropy%20loss%20between%20input%20logits%20and%20target.\n",
        "\n",
        "loss_fn = nn.MSELoss()"
      ],
      "metadata": {
        "id": "MiRatTEqv48P"
      },
      "execution_count": 31,
      "outputs": []
    },
    {
      "cell_type": "code",
      "source": [
        "loss_fn # Mean absolute error (kinda crap but whatever)"
      ],
      "metadata": {
        "colab": {
          "base_uri": "https://localhost:8080/"
        },
        "id": "qfbj-GA3u1FS",
        "outputId": "eea2daa4-b506-441e-f8e0-d4f15c918fd8"
      },
      "execution_count": 32,
      "outputs": [
        {
          "output_type": "execute_result",
          "data": {
            "text/plain": [
              "L1Loss()"
            ]
          },
          "metadata": {},
          "execution_count": 32
        }
      ]
    },
    {
      "cell_type": "code",
      "source": [
        "optimizer = torch.optim.SGD(params = model_0.parameters(),\n",
        "                            lr = 0.01)\n",
        "# Stochastic gradient descent (the most commom)\n",
        "# lr is the learning rate, the most important hyperparameter you can set\n",
        "# parameters are the stuff set up randomly when creating the model, the hyperparameters are set by the developer"
      ],
      "metadata": {
        "id": "um_e0B-NyjVY"
      },
      "execution_count": null,
      "outputs": []
    },
    {
      "cell_type": "markdown",
      "source": [],
      "metadata": {
        "id": "T-lD7a80zrqF"
      }
    }
  ]
}