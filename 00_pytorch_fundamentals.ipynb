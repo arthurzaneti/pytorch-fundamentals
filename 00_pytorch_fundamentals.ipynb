{
  "nbformat": 4,
  "nbformat_minor": 0,
  "metadata": {
    "colab": {
      "provenance": [],
      "authorship_tag": "ABX9TyOczVBKFcTACqXlVNYW690q",
      "include_colab_link": true
    },
    "kernelspec": {
      "name": "python3",
      "display_name": "Python 3"
    },
    "language_info": {
      "name": "python"
    }
  },
  "cells": [
    {
      "cell_type": "markdown",
      "metadata": {
        "id": "view-in-github",
        "colab_type": "text"
      },
      "source": [
        "<a href=\"https://colab.research.google.com/github/arthurzaneti/pytorch-fundamentals/blob/main/00_pytorch_fundamentals.ipynb\" target=\"_parent\"><img src=\"https://colab.research.google.com/assets/colab-badge.svg\" alt=\"Open In Colab\"/></a>"
      ]
    },
    {
      "cell_type": "markdown",
      "source": [],
      "metadata": {
        "id": "EBQdzQv1OFcp"
      }
    },
    {
      "cell_type": "code",
      "source": [
        "import torch\n",
        "import pandas as pd\n",
        "import matplotlib.pyplot as plt\n",
        "import seaborn as sns\n",
        "import numpy as np"
      ],
      "metadata": {
        "id": "S2vpHaKpSkgU"
      },
      "execution_count": null,
      "outputs": []
    },
    {
      "cell_type": "code",
      "source": [
        "# What is a Tensor?\n",
        "\n",
        "# The way I get it is that Tensor is a n dimensional matrix.\n",
        "# But I hope this gets clearer trought the course\n",
        "\n",
        "scalar = torch.tensor(7)\n",
        "scalar"
      ],
      "metadata": {
        "colab": {
          "base_uri": "https://localhost:8080/"
        },
        "id": "MbnFGQ5fUD5p",
        "outputId": "46c7bad5-a28b-4e39-ff4b-fc4cf78c3668"
      },
      "execution_count": null,
      "outputs": [
        {
          "output_type": "execute_result",
          "data": {
            "text/plain": [
              "tensor(7)"
            ]
          },
          "metadata": {},
          "execution_count": 7
        }
      ]
    },
    {
      "cell_type": "code",
      "source": [
        "scalar.ndim"
      ],
      "metadata": {
        "colab": {
          "base_uri": "https://localhost:8080/"
        },
        "id": "b0NNo4fOUz7J",
        "outputId": "89f94935-218d-45ab-e566-1cb26a98bbca"
      },
      "execution_count": null,
      "outputs": [
        {
          "output_type": "execute_result",
          "data": {
            "text/plain": [
              "0"
            ]
          },
          "metadata": {},
          "execution_count": 8
        }
      ]
    },
    {
      "cell_type": "code",
      "source": [
        "vector = torch.tensor([7,7])\n"
      ],
      "metadata": {
        "id": "vCZ-77JsVSwG"
      },
      "execution_count": null,
      "outputs": []
    },
    {
      "cell_type": "code",
      "source": [
        "vector.ndim"
      ],
      "metadata": {
        "colab": {
          "base_uri": "https://localhost:8080/"
        },
        "id": "UL7CHWYSVl7z",
        "outputId": "27b7c838-4661-4210-8879-3abde5270fcc"
      },
      "execution_count": null,
      "outputs": [
        {
          "output_type": "execute_result",
          "data": {
            "text/plain": [
              "1"
            ]
          },
          "metadata": {},
          "execution_count": 14
        }
      ]
    },
    {
      "cell_type": "code",
      "source": [
        "vector.shape"
      ],
      "metadata": {
        "colab": {
          "base_uri": "https://localhost:8080/"
        },
        "id": "d7hZs7-4Vozs",
        "outputId": "2848d2d3-9f0d-4aad-f472-c8ea44fce9d0"
      },
      "execution_count": null,
      "outputs": [
        {
          "output_type": "execute_result",
          "data": {
            "text/plain": [
              "torch.Size([2])"
            ]
          },
          "metadata": {},
          "execution_count": 15
        }
      ]
    },
    {
      "cell_type": "code",
      "source": [
        "MATRIX = torch.tensor([[7, 8], [3, 4]])"
      ],
      "metadata": {
        "id": "NJRZVHvAVvPD"
      },
      "execution_count": null,
      "outputs": []
    },
    {
      "cell_type": "code",
      "source": [
        "MATRIX.ndim"
      ],
      "metadata": {
        "colab": {
          "base_uri": "https://localhost:8080/"
        },
        "id": "ycbiF2pkV3Cl",
        "outputId": "52aed93a-70d7-4c88-f7d9-430a987c79b0"
      },
      "execution_count": null,
      "outputs": [
        {
          "output_type": "execute_result",
          "data": {
            "text/plain": [
              "2"
            ]
          },
          "metadata": {},
          "execution_count": 22
        }
      ]
    },
    {
      "cell_type": "code",
      "source": [
        "MATRIX.shape"
      ],
      "metadata": {
        "colab": {
          "base_uri": "https://localhost:8080/"
        },
        "id": "ihLMlQURV6Az",
        "outputId": "bde3af6a-9b34-421f-c54f-166b8bbac9f5"
      },
      "execution_count": null,
      "outputs": [
        {
          "output_type": "execute_result",
          "data": {
            "text/plain": [
              "torch.Size([2, 2])"
            ]
          },
          "metadata": {},
          "execution_count": 23
        }
      ]
    },
    {
      "cell_type": "code",
      "source": [
        "MATRIX[1]"
      ],
      "metadata": {
        "colab": {
          "base_uri": "https://localhost:8080/"
        },
        "id": "TUIyqVSmV7ly",
        "outputId": "3d5e0883-3a2c-42fb-bb2e-ea48dd529a3c"
      },
      "execution_count": null,
      "outputs": [
        {
          "output_type": "execute_result",
          "data": {
            "text/plain": [
              "tensor([3, 4])"
            ]
          },
          "metadata": {},
          "execution_count": 28
        }
      ]
    },
    {
      "cell_type": "code",
      "source": [
        "# TENSOR\n",
        "\n",
        "TENSOR = torch.tensor([[[1, 2, 3], [3, 2, 1]]])\n",
        "TENSOR"
      ],
      "metadata": {
        "colab": {
          "base_uri": "https://localhost:8080/"
        },
        "id": "Iz3-AnYxWOdB",
        "outputId": "0903a75d-c830-42d3-e6cd-92a0feb48baa"
      },
      "execution_count": null,
      "outputs": [
        {
          "output_type": "execute_result",
          "data": {
            "text/plain": [
              "tensor([[[1, 2, 3],\n",
              "         [3, 2, 1]]])"
            ]
          },
          "metadata": {},
          "execution_count": 30
        }
      ]
    },
    {
      "cell_type": "code",
      "source": [
        "TENSOR.ndim"
      ],
      "metadata": {
        "colab": {
          "base_uri": "https://localhost:8080/"
        },
        "id": "_DwzoSMuWm8P",
        "outputId": "549b2646-e9b0-40cb-e210-d4c37824df05"
      },
      "execution_count": null,
      "outputs": [
        {
          "output_type": "execute_result",
          "data": {
            "text/plain": [
              "3"
            ]
          },
          "metadata": {},
          "execution_count": 32
        }
      ]
    },
    {
      "cell_type": "code",
      "source": [
        "TENSOR.shape"
      ],
      "metadata": {
        "colab": {
          "base_uri": "https://localhost:8080/"
        },
        "id": "7nIwegdiWq1f",
        "outputId": "eebb68a3-42f3-4d34-8718-949849270efa"
      },
      "execution_count": null,
      "outputs": [
        {
          "output_type": "execute_result",
          "data": {
            "text/plain": [
              "torch.Size([1, 2, 3])"
            ]
          },
          "metadata": {},
          "execution_count": 33
        }
      ]
    },
    {
      "cell_type": "code",
      "source": [
        "TENSOR[0][1][1]"
      ],
      "metadata": {
        "colab": {
          "base_uri": "https://localhost:8080/"
        },
        "id": "mYNBvV33Wv4-",
        "outputId": "21010c75-80e9-41ba-eeec-8c7cec00f6bd"
      },
      "execution_count": null,
      "outputs": [
        {
          "output_type": "execute_result",
          "data": {
            "text/plain": [
              "tensor(2)"
            ]
          },
          "metadata": {},
          "execution_count": 40
        }
      ]
    },
    {
      "cell_type": "code",
      "source": [
        "MY_TENSOR = torch.tensor([[[1, 2, 3, 4],\n",
        "                           [1, 2, 3, 4],\n",
        "                            [1, 2, 3, 4]],\n",
        "                           [[1, 2, 3, 4],\n",
        "                           [1, 2, 3, 4],\n",
        "                            [1, 2, 3, 4]],\n",
        "                           [[1, 2, 3, 4],\n",
        "                           [1, 2, 3, 4],\n",
        "                            [1, 2, 3, 4]]])\n",
        "MY_TENSOR"
      ],
      "metadata": {
        "colab": {
          "base_uri": "https://localhost:8080/"
        },
        "id": "iX4GCnIaW_J_",
        "outputId": "93b8ab9a-f7a8-4d4a-fb16-15d029868156"
      },
      "execution_count": null,
      "outputs": [
        {
          "output_type": "execute_result",
          "data": {
            "text/plain": [
              "tensor([[[1, 2, 3, 4],\n",
              "         [1, 2, 3, 4],\n",
              "         [1, 2, 3, 4]],\n",
              "\n",
              "        [[1, 2, 3, 4],\n",
              "         [1, 2, 3, 4],\n",
              "         [1, 2, 3, 4]],\n",
              "\n",
              "        [[1, 2, 3, 4],\n",
              "         [1, 2, 3, 4],\n",
              "         [1, 2, 3, 4]]])"
            ]
          },
          "metadata": {},
          "execution_count": 42
        }
      ]
    },
    {
      "cell_type": "code",
      "source": [
        "MY_TENSOR.ndim"
      ],
      "metadata": {
        "colab": {
          "base_uri": "https://localhost:8080/"
        },
        "id": "ifM23T6lX8ua",
        "outputId": "d4c06bf4-a547-45e7-ce64-46c701efdb6d"
      },
      "execution_count": null,
      "outputs": [
        {
          "output_type": "execute_result",
          "data": {
            "text/plain": [
              "3"
            ]
          },
          "metadata": {},
          "execution_count": 44
        }
      ]
    },
    {
      "cell_type": "code",
      "source": [
        "MY_TENSOR.shape"
      ],
      "metadata": {
        "colab": {
          "base_uri": "https://localhost:8080/"
        },
        "id": "OUPYrrySX-mp",
        "outputId": "9dcbfd62-077e-4eb4-f72b-287edba39c75"
      },
      "execution_count": null,
      "outputs": [
        {
          "output_type": "execute_result",
          "data": {
            "text/plain": [
              "torch.Size([3, 3, 4])"
            ]
          },
          "metadata": {},
          "execution_count": 46
        }
      ]
    },
    {
      "cell_type": "markdown",
      "source": [
        "  I feel like a Tensor is actually a bit more general than an N dimensional matrix.\n",
        " I say that because scalars are 0 dimensional tensors, vectors a 1 dimensional tensors\n",
        " and matrices are 2 dimensional tensors. So tensors are the most general structure to represent\n",
        " a group of numbers\n",
        "\n"
      ],
      "metadata": {
        "id": "LgFiultmYX_p"
      }
    },
    {
      "cell_type": "markdown",
      "source": [
        " ### Random tensors\n",
        "\n",
        " Why would you use a random tensor? They are important because the way a neural network lears is starting with a random numbers (a random tensor with a specified size) and adjust them to fit outputs"
      ],
      "metadata": {
        "id": "VYhixZoTZLP1"
      }
    },
    {
      "cell_type": "code",
      "source": [
        "RTENSOR = torch.rand(3, 4, 2, 2, 2)\n",
        "RTENSOR"
      ],
      "metadata": {
        "colab": {
          "base_uri": "https://localhost:8080/"
        },
        "id": "lTYRjHZkZpAg",
        "outputId": "04ef84c3-dd8b-4866-c43d-9583b767a95e"
      },
      "execution_count": null,
      "outputs": [
        {
          "output_type": "execute_result",
          "data": {
            "text/plain": [
              "tensor([[[[[0.2557, 0.2653],\n",
              "           [0.1370, 0.7228]],\n",
              "\n",
              "          [[0.0853, 0.7589],\n",
              "           [0.7450, 0.1177]]],\n",
              "\n",
              "\n",
              "         [[[0.3892, 0.4868],\n",
              "           [0.9410, 0.0494]],\n",
              "\n",
              "          [[0.6689, 0.1343],\n",
              "           [0.3868, 0.3502]]],\n",
              "\n",
              "\n",
              "         [[[0.7140, 0.9976],\n",
              "           [0.2709, 0.2280]],\n",
              "\n",
              "          [[0.5401, 0.3755],\n",
              "           [0.8963, 0.8294]]],\n",
              "\n",
              "\n",
              "         [[[0.5339, 0.2061],\n",
              "           [0.8972, 0.6161]],\n",
              "\n",
              "          [[0.4731, 0.3853],\n",
              "           [0.4761, 0.2177]]]],\n",
              "\n",
              "\n",
              "\n",
              "        [[[[0.9169, 0.8649],\n",
              "           [0.7184, 0.6263]],\n",
              "\n",
              "          [[0.0918, 0.0678],\n",
              "           [0.2103, 0.7234]]],\n",
              "\n",
              "\n",
              "         [[[0.4407, 0.2022],\n",
              "           [0.5649, 0.6841]],\n",
              "\n",
              "          [[0.4433, 0.6593],\n",
              "           [0.0087, 0.7886]]],\n",
              "\n",
              "\n",
              "         [[[0.8026, 0.5070],\n",
              "           [0.6019, 0.3782]],\n",
              "\n",
              "          [[0.3600, 0.5867],\n",
              "           [0.9955, 0.1604]]],\n",
              "\n",
              "\n",
              "         [[[0.8903, 0.5157],\n",
              "           [0.5998, 0.1802]],\n",
              "\n",
              "          [[0.4097, 0.5285],\n",
              "           [0.3234, 0.6991]]]],\n",
              "\n",
              "\n",
              "\n",
              "        [[[[0.8989, 0.0494],\n",
              "           [0.2073, 0.6820]],\n",
              "\n",
              "          [[0.3123, 0.4307],\n",
              "           [0.6576, 0.7254]]],\n",
              "\n",
              "\n",
              "         [[[0.3319, 0.0347],\n",
              "           [0.9000, 0.7944]],\n",
              "\n",
              "          [[0.5782, 0.3934],\n",
              "           [0.9254, 0.1866]]],\n",
              "\n",
              "\n",
              "         [[[0.8537, 0.7534],\n",
              "           [0.7366, 0.8305]],\n",
              "\n",
              "          [[0.1500, 0.3697],\n",
              "           [0.2207, 0.3536]]],\n",
              "\n",
              "\n",
              "         [[[0.1526, 0.0641],\n",
              "           [0.6504, 0.0948]],\n",
              "\n",
              "          [[0.7229, 0.8690],\n",
              "           [0.5815, 0.8430]]]]])"
            ]
          },
          "metadata": {},
          "execution_count": 51
        }
      ]
    },
    {
      "cell_type": "code",
      "source": [
        "RTENSOR.ndim"
      ],
      "metadata": {
        "colab": {
          "base_uri": "https://localhost:8080/"
        },
        "id": "pVRkS3cuZ4KN",
        "outputId": "2f51e983-8841-4274-cb04-d158f7e2b5a2"
      },
      "execution_count": null,
      "outputs": [
        {
          "output_type": "execute_result",
          "data": {
            "text/plain": [
              "5"
            ]
          },
          "metadata": {},
          "execution_count": 54
        }
      ]
    },
    {
      "cell_type": "code",
      "source": [
        "RTENSOR.shape"
      ],
      "metadata": {
        "colab": {
          "base_uri": "https://localhost:8080/"
        },
        "id": "SU4N3c7kaCAb",
        "outputId": "4cf93a58-f511-4bc7-d234-1e7cb3df423b"
      },
      "execution_count": null,
      "outputs": [
        {
          "output_type": "execute_result",
          "data": {
            "text/plain": [
              "torch.Size([3, 4, 2, 2, 2])"
            ]
          },
          "metadata": {},
          "execution_count": 53
        }
      ]
    },
    {
      "cell_type": "code",
      "source": [
        "RIMG_TENSOR = torch.rand(3, 224, 224)\n",
        "RIMG_TENSOR.ndim, RIMG_TENSOR.shape"
      ],
      "metadata": {
        "colab": {
          "base_uri": "https://localhost:8080/"
        },
        "id": "_7AAQTKlZSCl",
        "outputId": "ee6912d4-3b81-4afb-c61c-bcb794dedeb4"
      },
      "execution_count": null,
      "outputs": [
        {
          "output_type": "execute_result",
          "data": {
            "text/plain": [
              "(3, torch.Size([3, 224, 224]))"
            ]
          },
          "metadata": {},
          "execution_count": 56
        }
      ]
    },
    {
      "cell_type": "code",
      "source": [
        "MY_RTENSOR = torch.rand(2, 2, 2, 2, 2, 2, 2, 2)"
      ],
      "metadata": {
        "id": "HMOaDXFVbEuy"
      },
      "execution_count": null,
      "outputs": []
    },
    {
      "cell_type": "markdown",
      "source": [
        "## Tensors of Zeros and ones"
      ],
      "metadata": {
        "id": "cvuAvURMbrB2"
      }
    },
    {
      "cell_type": "code",
      "source": [
        "ZEROS = torch.zeros(size = (3,4))\n",
        "ZEROS"
      ],
      "metadata": {
        "colab": {
          "base_uri": "https://localhost:8080/"
        },
        "id": "DhjK8zYOb8ab",
        "outputId": "172a38ea-390c-492d-c49a-8a4160538bf9"
      },
      "execution_count": null,
      "outputs": [
        {
          "output_type": "execute_result",
          "data": {
            "text/plain": [
              "tensor([[0., 0., 0., 0.],\n",
              "        [0., 0., 0., 0.],\n",
              "        [0., 0., 0., 0.]])"
            ]
          },
          "metadata": {},
          "execution_count": 59
        }
      ]
    },
    {
      "cell_type": "code",
      "source": [
        "torch.rand(size = (3,4)) * ZEROS"
      ],
      "metadata": {
        "colab": {
          "base_uri": "https://localhost:8080/"
        },
        "id": "CKjE8247cDbs",
        "outputId": "dba82117-dbbb-4f6b-ffb1-8ef9336816dc"
      },
      "execution_count": null,
      "outputs": [
        {
          "output_type": "execute_result",
          "data": {
            "text/plain": [
              "tensor([[0., 0., 0., 0.],\n",
              "        [0., 0., 0., 0.],\n",
              "        [0., 0., 0., 0.]])"
            ]
          },
          "metadata": {},
          "execution_count": 61
        }
      ]
    },
    {
      "cell_type": "code",
      "source": [
        "ONES = torch.ones(3, 4, 1)\n",
        "ONES"
      ],
      "metadata": {
        "colab": {
          "base_uri": "https://localhost:8080/"
        },
        "id": "Jr-WTaBicP7a",
        "outputId": "78509696-2fbc-42c4-8721-0804d7d80938"
      },
      "execution_count": null,
      "outputs": [
        {
          "output_type": "execute_result",
          "data": {
            "text/plain": [
              "tensor([[[1.],\n",
              "         [1.],\n",
              "         [1.],\n",
              "         [1.]],\n",
              "\n",
              "        [[1.],\n",
              "         [1.],\n",
              "         [1.],\n",
              "         [1.]],\n",
              "\n",
              "        [[1.],\n",
              "         [1.],\n",
              "         [1.],\n",
              "         [1.]]])"
            ]
          },
          "metadata": {},
          "execution_count": 66
        }
      ]
    },
    {
      "cell_type": "code",
      "source": [
        "ONES.dtype"
      ],
      "metadata": {
        "colab": {
          "base_uri": "https://localhost:8080/"
        },
        "id": "geotfuRycU9J",
        "outputId": "bd781859-855e-43e5-8dac-6949a014f8fa"
      },
      "execution_count": null,
      "outputs": [
        {
          "output_type": "execute_result",
          "data": {
            "text/plain": [
              "torch.float32"
            ]
          },
          "metadata": {},
          "execution_count": 64
        }
      ]
    },
    {
      "cell_type": "code",
      "source": [
        "# torch.arange\n",
        "torch.arange(start = 0, end = 10, step = 2)"
      ],
      "metadata": {
        "colab": {
          "base_uri": "https://localhost:8080/"
        },
        "id": "tvvLrRItcXAZ",
        "outputId": "6f3863aa-4ee3-4d89-d541-a0fe0f36ca67"
      },
      "execution_count": null,
      "outputs": [
        {
          "output_type": "execute_result",
          "data": {
            "text/plain": [
              "tensor([0, 2, 4, 6, 8])"
            ]
          },
          "metadata": {},
          "execution_count": 71
        }
      ]
    },
    {
      "cell_type": "code",
      "source": [
        "# tensors like\n",
        "ten_zeros = torch.zeros_like(input = ONES)\n",
        "ten_zeros"
      ],
      "metadata": {
        "colab": {
          "base_uri": "https://localhost:8080/"
        },
        "id": "aryAfPd5dDTU",
        "outputId": "10887e4c-a176-4b58-97db-e64eb144a4fa"
      },
      "execution_count": null,
      "outputs": [
        {
          "output_type": "execute_result",
          "data": {
            "text/plain": [
              "tensor([[[0.],\n",
              "         [0.],\n",
              "         [0.],\n",
              "         [0.]],\n",
              "\n",
              "        [[0.],\n",
              "         [0.],\n",
              "         [0.],\n",
              "         [0.]],\n",
              "\n",
              "        [[0.],\n",
              "         [0.],\n",
              "         [0.],\n",
              "         [0.]]])"
            ]
          },
          "metadata": {},
          "execution_count": 73
        }
      ]
    },
    {
      "cell_type": "code",
      "source": [
        "torch.eye(3, 3)"
      ],
      "metadata": {
        "colab": {
          "base_uri": "https://localhost:8080/"
        },
        "id": "Px19MBpscwOn",
        "outputId": "d601088e-63c2-4781-b808-5e1941de5c18"
      },
      "execution_count": null,
      "outputs": [
        {
          "output_type": "execute_result",
          "data": {
            "text/plain": [
              "tensor([[1., 0., 0.],\n",
              "        [0., 1., 0.],\n",
              "        [0., 0., 1.]])"
            ]
          },
          "metadata": {},
          "execution_count": 80
        }
      ]
    },
    {
      "cell_type": "code",
      "source": [
        "real = torch.rand(2, 2)\n",
        "imag = torch.rand(2, 2)\n",
        "z = torch.complex(real, imag)\n",
        "print(z)\n",
        "z.dtype"
      ],
      "metadata": {
        "colab": {
          "base_uri": "https://localhost:8080/"
        },
        "id": "AGtOI39dfCpa",
        "outputId": "3c27df3d-fd57-4ec4-cc3d-d1bea502c5aa"
      },
      "execution_count": null,
      "outputs": [
        {
          "output_type": "stream",
          "name": "stdout",
          "text": [
            "tensor([[0.9853+0.9734j, 0.3117+0.9753j],\n",
            "        [0.1913+0.6351j, 0.6752+0.5358j]])\n"
          ]
        },
        {
          "output_type": "execute_result",
          "data": {
            "text/plain": [
              "torch.complex64"
            ]
          },
          "metadata": {},
          "execution_count": 83
        }
      ]
    },
    {
      "cell_type": "code",
      "source": [],
      "metadata": {
        "id": "FRV9zfTqfGja"
      },
      "execution_count": null,
      "outputs": []
    }
  ]
}