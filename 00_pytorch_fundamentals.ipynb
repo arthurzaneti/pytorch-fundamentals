{
  "nbformat": 4,
  "nbformat_minor": 0,
  "metadata": {
    "colab": {
      "provenance": [],
      "gpuType": "T4",
      "authorship_tag": "ABX9TyMWSp9w1NrLKrFzC+ztzw3P",
      "include_colab_link": true
    },
    "kernelspec": {
      "name": "python3",
      "display_name": "Python 3"
    },
    "language_info": {
      "name": "python"
    },
    "accelerator": "GPU"
  },
  "cells": [
    {
      "cell_type": "markdown",
      "metadata": {
        "id": "view-in-github",
        "colab_type": "text"
      },
      "source": [
        "<a href=\"https://colab.research.google.com/github/arthurzaneti/pytorch-fundamentals/blob/main/00_pytorch_fundamentals.ipynb\" target=\"_parent\"><img src=\"https://colab.research.google.com/assets/colab-badge.svg\" alt=\"Open In Colab\"/></a>"
      ]
    },
    {
      "cell_type": "markdown",
      "source": [],
      "metadata": {
        "id": "EBQdzQv1OFcp"
      }
    },
    {
      "cell_type": "code",
      "source": [
        "import torch\n",
        "import pandas as pd\n",
        "import matplotlib.pyplot as plt\n",
        "import seaborn as sns\n",
        "import numpy as np"
      ],
      "metadata": {
        "id": "S2vpHaKpSkgU"
      },
      "execution_count": null,
      "outputs": []
    },
    {
      "cell_type": "code",
      "source": [
        "# What is a Tensor?\n",
        "\n",
        "# The way I get it is that Tensor is a n dimensional matrix.\n",
        "# But I hope this gets clearer trought the course\n",
        "\n",
        "scalar = torch.tensor(7)\n",
        "scalar"
      ],
      "metadata": {
        "colab": {
          "base_uri": "https://localhost:8080/"
        },
        "id": "MbnFGQ5fUD5p",
        "outputId": "196a9064-4ec9-4c63-efc5-cf2b9c82a689"
      },
      "execution_count": null,
      "outputs": [
        {
          "output_type": "execute_result",
          "data": {
            "text/plain": [
              "tensor(7)"
            ]
          },
          "metadata": {},
          "execution_count": 2
        }
      ]
    },
    {
      "cell_type": "code",
      "source": [
        "scalar.ndim"
      ],
      "metadata": {
        "colab": {
          "base_uri": "https://localhost:8080/"
        },
        "id": "b0NNo4fOUz7J",
        "outputId": "ceb46883-8002-4194-e56c-c4331e2c76b2"
      },
      "execution_count": null,
      "outputs": [
        {
          "output_type": "execute_result",
          "data": {
            "text/plain": [
              "0"
            ]
          },
          "metadata": {},
          "execution_count": 3
        }
      ]
    },
    {
      "cell_type": "code",
      "source": [
        "vector = torch.tensor([7,7])\n"
      ],
      "metadata": {
        "id": "vCZ-77JsVSwG"
      },
      "execution_count": null,
      "outputs": []
    },
    {
      "cell_type": "code",
      "source": [
        "vector.ndim"
      ],
      "metadata": {
        "colab": {
          "base_uri": "https://localhost:8080/"
        },
        "id": "UL7CHWYSVl7z",
        "outputId": "dacaa8c3-39aa-4e44-9068-2530b415cf2e"
      },
      "execution_count": null,
      "outputs": [
        {
          "output_type": "execute_result",
          "data": {
            "text/plain": [
              "1"
            ]
          },
          "metadata": {},
          "execution_count": 5
        }
      ]
    },
    {
      "cell_type": "code",
      "source": [
        "vector.shape"
      ],
      "metadata": {
        "colab": {
          "base_uri": "https://localhost:8080/"
        },
        "id": "d7hZs7-4Vozs",
        "outputId": "ff1bc6e0-65c0-4989-f810-5f42eaf308c2"
      },
      "execution_count": null,
      "outputs": [
        {
          "output_type": "execute_result",
          "data": {
            "text/plain": [
              "torch.Size([2])"
            ]
          },
          "metadata": {},
          "execution_count": 6
        }
      ]
    },
    {
      "cell_type": "code",
      "source": [
        "MATRIX = torch.tensor([[7, 8], [3, 4]])"
      ],
      "metadata": {
        "id": "NJRZVHvAVvPD"
      },
      "execution_count": null,
      "outputs": []
    },
    {
      "cell_type": "code",
      "source": [
        "MATRIX.ndim"
      ],
      "metadata": {
        "colab": {
          "base_uri": "https://localhost:8080/"
        },
        "id": "ycbiF2pkV3Cl",
        "outputId": "16018f17-cfb1-4488-83b4-bcec0fe49efb"
      },
      "execution_count": null,
      "outputs": [
        {
          "output_type": "execute_result",
          "data": {
            "text/plain": [
              "2"
            ]
          },
          "metadata": {},
          "execution_count": 8
        }
      ]
    },
    {
      "cell_type": "code",
      "source": [
        "MATRIX.shape"
      ],
      "metadata": {
        "colab": {
          "base_uri": "https://localhost:8080/"
        },
        "id": "ihLMlQURV6Az",
        "outputId": "849ab201-3d06-4827-8eea-615d680beae5"
      },
      "execution_count": null,
      "outputs": [
        {
          "output_type": "execute_result",
          "data": {
            "text/plain": [
              "torch.Size([2, 2])"
            ]
          },
          "metadata": {},
          "execution_count": 9
        }
      ]
    },
    {
      "cell_type": "code",
      "source": [
        "MATRIX[1]"
      ],
      "metadata": {
        "colab": {
          "base_uri": "https://localhost:8080/"
        },
        "id": "TUIyqVSmV7ly",
        "outputId": "b15c8544-27a8-4151-e447-8c95325587a8"
      },
      "execution_count": null,
      "outputs": [
        {
          "output_type": "execute_result",
          "data": {
            "text/plain": [
              "tensor([3, 4])"
            ]
          },
          "metadata": {},
          "execution_count": 10
        }
      ]
    },
    {
      "cell_type": "code",
      "source": [
        "# TENSOR\n",
        "\n",
        "TENSOR = torch.tensor([[[1, 2, 3], [3, 2, 1]]])\n",
        "TENSOR"
      ],
      "metadata": {
        "colab": {
          "base_uri": "https://localhost:8080/"
        },
        "id": "Iz3-AnYxWOdB",
        "outputId": "bc3275d7-0a59-44b4-f903-3e5a273165e7"
      },
      "execution_count": null,
      "outputs": [
        {
          "output_type": "execute_result",
          "data": {
            "text/plain": [
              "tensor([[[1, 2, 3],\n",
              "         [3, 2, 1]]])"
            ]
          },
          "metadata": {},
          "execution_count": 11
        }
      ]
    },
    {
      "cell_type": "code",
      "source": [
        "TENSOR.ndim"
      ],
      "metadata": {
        "colab": {
          "base_uri": "https://localhost:8080/"
        },
        "id": "_DwzoSMuWm8P",
        "outputId": "10394173-73c8-490a-dd97-b39659ec93f6"
      },
      "execution_count": null,
      "outputs": [
        {
          "output_type": "execute_result",
          "data": {
            "text/plain": [
              "3"
            ]
          },
          "metadata": {},
          "execution_count": 12
        }
      ]
    },
    {
      "cell_type": "code",
      "source": [
        "TENSOR.shape"
      ],
      "metadata": {
        "colab": {
          "base_uri": "https://localhost:8080/"
        },
        "id": "7nIwegdiWq1f",
        "outputId": "d922e031-4e66-44e8-e84c-d7ec02569146"
      },
      "execution_count": null,
      "outputs": [
        {
          "output_type": "execute_result",
          "data": {
            "text/plain": [
              "torch.Size([1, 2, 3])"
            ]
          },
          "metadata": {},
          "execution_count": 13
        }
      ]
    },
    {
      "cell_type": "code",
      "source": [
        "TENSOR[0][1][1]"
      ],
      "metadata": {
        "colab": {
          "base_uri": "https://localhost:8080/"
        },
        "id": "mYNBvV33Wv4-",
        "outputId": "0e5ab28c-560d-4202-fa33-ddcdb36fe112"
      },
      "execution_count": null,
      "outputs": [
        {
          "output_type": "execute_result",
          "data": {
            "text/plain": [
              "tensor(2)"
            ]
          },
          "metadata": {},
          "execution_count": 14
        }
      ]
    },
    {
      "cell_type": "code",
      "source": [
        "MY_TENSOR = torch.tensor([[[1, 2, 3, 4],\n",
        "                           [1, 2, 3, 4],\n",
        "                            [1, 2, 3, 4]],\n",
        "                           [[1, 2, 3, 4],\n",
        "                           [1, 2, 3, 4],\n",
        "                            [1, 2, 3, 4]],\n",
        "                           [[1, 2, 3, 4],\n",
        "                           [1, 2, 3, 4],\n",
        "                            [1, 2, 3, 4]]])\n",
        "MY_TENSOR"
      ],
      "metadata": {
        "colab": {
          "base_uri": "https://localhost:8080/"
        },
        "id": "iX4GCnIaW_J_",
        "outputId": "ab962721-692b-44fb-f521-568e1489a855"
      },
      "execution_count": null,
      "outputs": [
        {
          "output_type": "execute_result",
          "data": {
            "text/plain": [
              "tensor([[[1, 2, 3, 4],\n",
              "         [1, 2, 3, 4],\n",
              "         [1, 2, 3, 4]],\n",
              "\n",
              "        [[1, 2, 3, 4],\n",
              "         [1, 2, 3, 4],\n",
              "         [1, 2, 3, 4]],\n",
              "\n",
              "        [[1, 2, 3, 4],\n",
              "         [1, 2, 3, 4],\n",
              "         [1, 2, 3, 4]]])"
            ]
          },
          "metadata": {},
          "execution_count": 15
        }
      ]
    },
    {
      "cell_type": "code",
      "source": [
        "MY_TENSOR.ndim"
      ],
      "metadata": {
        "colab": {
          "base_uri": "https://localhost:8080/"
        },
        "id": "ifM23T6lX8ua",
        "outputId": "573e03e6-2b92-43f0-fb53-50529f6b7191"
      },
      "execution_count": null,
      "outputs": [
        {
          "output_type": "execute_result",
          "data": {
            "text/plain": [
              "3"
            ]
          },
          "metadata": {},
          "execution_count": 16
        }
      ]
    },
    {
      "cell_type": "code",
      "source": [
        "MY_TENSOR.shape"
      ],
      "metadata": {
        "colab": {
          "base_uri": "https://localhost:8080/"
        },
        "id": "OUPYrrySX-mp",
        "outputId": "0ea4f475-07ff-4d3a-d356-cbd5b050a165"
      },
      "execution_count": null,
      "outputs": [
        {
          "output_type": "execute_result",
          "data": {
            "text/plain": [
              "torch.Size([3, 3, 4])"
            ]
          },
          "metadata": {},
          "execution_count": 17
        }
      ]
    },
    {
      "cell_type": "markdown",
      "source": [
        "  I feel like a Tensor is actually a bit more general than an N dimensional matrix.\n",
        " I say that because scalars are 0 dimensional tensors, vectors a 1 dimensional tensors\n",
        " and matrices are 2 dimensional tensors. So tensors are the most general structure to represent\n",
        " a group of numbers\n",
        "\n"
      ],
      "metadata": {
        "id": "LgFiultmYX_p"
      }
    },
    {
      "cell_type": "markdown",
      "source": [
        " ### Random tensors\n",
        "\n",
        " Why would you use a random tensor? They are important because the way a neural network lears is starting with a random numbers (a random tensor with a specified size) and adjust them to fit outputs"
      ],
      "metadata": {
        "id": "VYhixZoTZLP1"
      }
    },
    {
      "cell_type": "code",
      "source": [
        "RTENSOR = torch.rand(3, 4, 2, 2, 2)\n",
        "RTENSOR"
      ],
      "metadata": {
        "colab": {
          "base_uri": "https://localhost:8080/"
        },
        "id": "lTYRjHZkZpAg",
        "outputId": "b01441d8-8e4e-46df-fd59-7b213df792b8"
      },
      "execution_count": null,
      "outputs": [
        {
          "output_type": "execute_result",
          "data": {
            "text/plain": [
              "tensor([[[[[0.6586, 0.9743],\n",
              "           [0.2283, 0.6690]],\n",
              "\n",
              "          [[0.3130, 0.7379],\n",
              "           [0.9326, 0.9801]]],\n",
              "\n",
              "\n",
              "         [[[0.0409, 0.6333],\n",
              "           [0.2543, 0.4016]],\n",
              "\n",
              "          [[0.6149, 0.6250],\n",
              "           [0.4819, 0.1952]]],\n",
              "\n",
              "\n",
              "         [[[0.9130, 0.2092],\n",
              "           [0.9562, 0.0792]],\n",
              "\n",
              "          [[0.4563, 0.2149],\n",
              "           [0.8302, 0.5786]]],\n",
              "\n",
              "\n",
              "         [[[0.2401, 0.8449],\n",
              "           [0.6568, 0.7962]],\n",
              "\n",
              "          [[0.6144, 0.6262],\n",
              "           [0.1364, 0.8977]]]],\n",
              "\n",
              "\n",
              "\n",
              "        [[[[0.9405, 0.8254],\n",
              "           [0.9088, 0.2015]],\n",
              "\n",
              "          [[0.0884, 0.3367],\n",
              "           [0.6020, 0.9586]]],\n",
              "\n",
              "\n",
              "         [[[0.1809, 0.2165],\n",
              "           [0.4995, 0.7640]],\n",
              "\n",
              "          [[0.3059, 0.8682],\n",
              "           [0.7008, 0.8229]]],\n",
              "\n",
              "\n",
              "         [[[0.3911, 0.9089],\n",
              "           [0.3667, 0.6137]],\n",
              "\n",
              "          [[0.0312, 0.3924],\n",
              "           [0.9955, 0.5003]]],\n",
              "\n",
              "\n",
              "         [[[0.8066, 0.6748],\n",
              "           [0.3595, 0.1062]],\n",
              "\n",
              "          [[0.8415, 0.0770],\n",
              "           [0.9395, 0.7012]]]],\n",
              "\n",
              "\n",
              "\n",
              "        [[[[0.6616, 0.0059],\n",
              "           [0.9405, 0.2536]],\n",
              "\n",
              "          [[0.1648, 0.1242],\n",
              "           [0.0583, 0.0731]]],\n",
              "\n",
              "\n",
              "         [[[0.8797, 0.9680],\n",
              "           [0.0320, 0.0333]],\n",
              "\n",
              "          [[0.7265, 0.0724],\n",
              "           [0.3901, 0.3189]]],\n",
              "\n",
              "\n",
              "         [[[0.1413, 0.0196],\n",
              "           [0.2829, 0.6885]],\n",
              "\n",
              "          [[0.8079, 0.9461],\n",
              "           [0.7882, 0.7694]]],\n",
              "\n",
              "\n",
              "         [[[0.4742, 0.6093],\n",
              "           [0.1923, 0.8751]],\n",
              "\n",
              "          [[0.0350, 0.5090],\n",
              "           [0.6988, 0.6760]]]]])"
            ]
          },
          "metadata": {},
          "execution_count": 18
        }
      ]
    },
    {
      "cell_type": "code",
      "source": [
        "RTENSOR.ndim"
      ],
      "metadata": {
        "colab": {
          "base_uri": "https://localhost:8080/"
        },
        "id": "pVRkS3cuZ4KN",
        "outputId": "15788836-f722-4e98-fdee-5302077a9603"
      },
      "execution_count": null,
      "outputs": [
        {
          "output_type": "execute_result",
          "data": {
            "text/plain": [
              "5"
            ]
          },
          "metadata": {},
          "execution_count": 19
        }
      ]
    },
    {
      "cell_type": "code",
      "source": [
        "RTENSOR.shape"
      ],
      "metadata": {
        "colab": {
          "base_uri": "https://localhost:8080/"
        },
        "id": "SU4N3c7kaCAb",
        "outputId": "858f105b-5e51-4cf3-a53e-b041f4355978"
      },
      "execution_count": null,
      "outputs": [
        {
          "output_type": "execute_result",
          "data": {
            "text/plain": [
              "torch.Size([3, 4, 2, 2, 2])"
            ]
          },
          "metadata": {},
          "execution_count": 20
        }
      ]
    },
    {
      "cell_type": "code",
      "source": [
        "RIMG_TENSOR = torch.rand(3, 224, 224)\n",
        "RIMG_TENSOR.ndim, RIMG_TENSOR.shape"
      ],
      "metadata": {
        "colab": {
          "base_uri": "https://localhost:8080/"
        },
        "id": "_7AAQTKlZSCl",
        "outputId": "e1cc6978-9ef9-4aeb-9e56-a5b83fbf1c54"
      },
      "execution_count": null,
      "outputs": [
        {
          "output_type": "execute_result",
          "data": {
            "text/plain": [
              "(3, torch.Size([3, 224, 224]))"
            ]
          },
          "metadata": {},
          "execution_count": 21
        }
      ]
    },
    {
      "cell_type": "code",
      "source": [
        "MY_RTENSOR = torch.rand(2, 2, 2, 2, 2, 2, 2, 2)"
      ],
      "metadata": {
        "id": "HMOaDXFVbEuy"
      },
      "execution_count": null,
      "outputs": []
    },
    {
      "cell_type": "markdown",
      "source": [
        "## Tensors of Zeros and ones"
      ],
      "metadata": {
        "id": "cvuAvURMbrB2"
      }
    },
    {
      "cell_type": "code",
      "source": [
        "ZEROS = torch.zeros(size = (3,4))\n",
        "ZEROS"
      ],
      "metadata": {
        "colab": {
          "base_uri": "https://localhost:8080/"
        },
        "id": "DhjK8zYOb8ab",
        "outputId": "93f3c6f9-c3d0-4057-84b5-042dafbaadf4"
      },
      "execution_count": null,
      "outputs": [
        {
          "output_type": "execute_result",
          "data": {
            "text/plain": [
              "tensor([[0., 0., 0., 0.],\n",
              "        [0., 0., 0., 0.],\n",
              "        [0., 0., 0., 0.]])"
            ]
          },
          "metadata": {},
          "execution_count": 23
        }
      ]
    },
    {
      "cell_type": "code",
      "source": [
        "torch.rand(size = (3,4)) * ZEROS"
      ],
      "metadata": {
        "colab": {
          "base_uri": "https://localhost:8080/"
        },
        "id": "CKjE8247cDbs",
        "outputId": "d9c022a0-3f90-42cb-c77a-76d1cb339b9c"
      },
      "execution_count": null,
      "outputs": [
        {
          "output_type": "execute_result",
          "data": {
            "text/plain": [
              "tensor([[0., 0., 0., 0.],\n",
              "        [0., 0., 0., 0.],\n",
              "        [0., 0., 0., 0.]])"
            ]
          },
          "metadata": {},
          "execution_count": 24
        }
      ]
    },
    {
      "cell_type": "code",
      "source": [
        "ONES = torch.ones(3, 4, 1)\n",
        "ONES"
      ],
      "metadata": {
        "colab": {
          "base_uri": "https://localhost:8080/"
        },
        "id": "Jr-WTaBicP7a",
        "outputId": "be85133a-8202-4aaa-848e-9a3d3d82cc5f"
      },
      "execution_count": null,
      "outputs": [
        {
          "output_type": "execute_result",
          "data": {
            "text/plain": [
              "tensor([[[1.],\n",
              "         [1.],\n",
              "         [1.],\n",
              "         [1.]],\n",
              "\n",
              "        [[1.],\n",
              "         [1.],\n",
              "         [1.],\n",
              "         [1.]],\n",
              "\n",
              "        [[1.],\n",
              "         [1.],\n",
              "         [1.],\n",
              "         [1.]]])"
            ]
          },
          "metadata": {},
          "execution_count": 25
        }
      ]
    },
    {
      "cell_type": "code",
      "source": [
        "ONES.dtype"
      ],
      "metadata": {
        "colab": {
          "base_uri": "https://localhost:8080/"
        },
        "id": "geotfuRycU9J",
        "outputId": "85aaebcf-a44e-4f60-f06d-0eb13257f5cb"
      },
      "execution_count": null,
      "outputs": [
        {
          "output_type": "execute_result",
          "data": {
            "text/plain": [
              "torch.float32"
            ]
          },
          "metadata": {},
          "execution_count": 26
        }
      ]
    },
    {
      "cell_type": "code",
      "source": [
        "# torch.arange\n",
        "torch.arange(start = 0, end = 10, step = 2)"
      ],
      "metadata": {
        "colab": {
          "base_uri": "https://localhost:8080/"
        },
        "id": "tvvLrRItcXAZ",
        "outputId": "5042544f-f389-46e5-df8b-0284f32a49aa"
      },
      "execution_count": null,
      "outputs": [
        {
          "output_type": "execute_result",
          "data": {
            "text/plain": [
              "tensor([0, 2, 4, 6, 8])"
            ]
          },
          "metadata": {},
          "execution_count": 27
        }
      ]
    },
    {
      "cell_type": "code",
      "source": [
        "# tensors like\n",
        "ten_zeros = torch.zeros_like(input = ONES)\n",
        "ten_zeros"
      ],
      "metadata": {
        "colab": {
          "base_uri": "https://localhost:8080/"
        },
        "id": "aryAfPd5dDTU",
        "outputId": "e1ae3858-7e4d-4f6e-e6db-dea4057d2b88"
      },
      "execution_count": null,
      "outputs": [
        {
          "output_type": "execute_result",
          "data": {
            "text/plain": [
              "tensor([[[0.],\n",
              "         [0.],\n",
              "         [0.],\n",
              "         [0.]],\n",
              "\n",
              "        [[0.],\n",
              "         [0.],\n",
              "         [0.],\n",
              "         [0.]],\n",
              "\n",
              "        [[0.],\n",
              "         [0.],\n",
              "         [0.],\n",
              "         [0.]]])"
            ]
          },
          "metadata": {},
          "execution_count": 28
        }
      ]
    },
    {
      "cell_type": "code",
      "source": [
        "torch.eye(3, 3)"
      ],
      "metadata": {
        "colab": {
          "base_uri": "https://localhost:8080/"
        },
        "id": "Px19MBpscwOn",
        "outputId": "ead28d6e-b937-4157-8130-321f3b536e49"
      },
      "execution_count": null,
      "outputs": [
        {
          "output_type": "execute_result",
          "data": {
            "text/plain": [
              "tensor([[1., 0., 0.],\n",
              "        [0., 1., 0.],\n",
              "        [0., 0., 1.]])"
            ]
          },
          "metadata": {},
          "execution_count": 29
        }
      ]
    },
    {
      "cell_type": "code",
      "source": [
        "real = torch.rand(2, 2)\n",
        "imag = torch.rand(2, 2)\n",
        "z = torch.complex(real, imag)\n",
        "print(z)\n",
        "z.dtype"
      ],
      "metadata": {
        "colab": {
          "base_uri": "https://localhost:8080/"
        },
        "id": "AGtOI39dfCpa",
        "outputId": "5d0bfbd4-88db-4e17-c43b-de7dbe0ca478"
      },
      "execution_count": null,
      "outputs": [
        {
          "output_type": "stream",
          "name": "stdout",
          "text": [
            "tensor([[0.9558+0.8393j, 0.8951+0.2121j],\n",
            "        [0.9698+0.6991j, 0.1364+0.3228j]])\n"
          ]
        },
        {
          "output_type": "execute_result",
          "data": {
            "text/plain": [
              "torch.complex64"
            ]
          },
          "metadata": {},
          "execution_count": 30
        }
      ]
    },
    {
      "cell_type": "markdown",
      "source": [
        "#Tensor Datatypes\n",
        "\n",
        "**Note:** Tensor datatypes are one of the three main sources of errors in Deep learning\n",
        "\n",
        "1. Tensor not right dtype\n",
        "2. Tensor not having the right shape\n",
        "3. Tensors not on the right device (????)"
      ],
      "metadata": {
        "id": "FRV9zfTqfGja"
      }
    },
    {
      "cell_type": "code",
      "source": [
        "float_32_TENSOR = torch.tensor([3], dtype = torch.float64,\n",
        "                               device = None, #cuda, gpu, cpu\n",
        "                               requires_grad = False)"
      ],
      "metadata": {
        "id": "StNJKqFtz9Z1"
      },
      "execution_count": null,
      "outputs": []
    },
    {
      "cell_type": "code",
      "source": [
        "float_16_TENSOR = float_32_TENSOR.type(torch.float16)\n",
        "float_16_TENSOR.dtype"
      ],
      "metadata": {
        "colab": {
          "base_uri": "https://localhost:8080/"
        },
        "id": "fbZKuIdD0DYX",
        "outputId": "86f0a2ab-9a41-447c-b760-b61ebb33d4bb"
      },
      "execution_count": null,
      "outputs": [
        {
          "output_type": "execute_result",
          "data": {
            "text/plain": [
              "torch.float16"
            ]
          },
          "metadata": {},
          "execution_count": 32
        }
      ]
    },
    {
      "cell_type": "code",
      "source": [
        "print(float_16_TENSOR)\n",
        "print(float_32_TENSOR)\n",
        "float_16_TENSOR * float_32_TENSOR"
      ],
      "metadata": {
        "colab": {
          "base_uri": "https://localhost:8080/"
        },
        "id": "yiOFQKtv2sR4",
        "outputId": "45862d3e-d374-4a7e-f1b6-8405a2123195"
      },
      "execution_count": null,
      "outputs": [
        {
          "output_type": "stream",
          "name": "stdout",
          "text": [
            "tensor([3.], dtype=torch.float16)\n",
            "tensor([3.], dtype=torch.float64)\n"
          ]
        },
        {
          "output_type": "execute_result",
          "data": {
            "text/plain": [
              "tensor([9.], dtype=torch.float64)"
            ]
          },
          "metadata": {},
          "execution_count": 35
        }
      ]
    },
    {
      "cell_type": "code",
      "source": [
        "int_64_TENSOR = torch.tensor([3, 6, 9])\n",
        "int_64_TENSOR.dtype"
      ],
      "metadata": {
        "colab": {
          "base_uri": "https://localhost:8080/"
        },
        "id": "N9GVN0c23Qdk",
        "outputId": "956aafc6-3082-4838-f826-add4c09a73d0"
      },
      "execution_count": null,
      "outputs": [
        {
          "output_type": "execute_result",
          "data": {
            "text/plain": [
              "torch.int64"
            ]
          },
          "metadata": {},
          "execution_count": 44
        }
      ]
    },
    {
      "cell_type": "code",
      "source": [
        "float_32_TENSOR * int_32_TENSOR"
      ],
      "metadata": {
        "colab": {
          "base_uri": "https://localhost:8080/"
        },
        "id": "n09wX68SVnT7",
        "outputId": "745a78cb-9b6e-4ac1-d7df-e5ce36ffee2a"
      },
      "execution_count": null,
      "outputs": [
        {
          "output_type": "execute_result",
          "data": {
            "text/plain": [
              "tensor([ 9., 18., 27.], dtype=torch.float64)"
            ]
          },
          "metadata": {},
          "execution_count": 39
        }
      ]
    },
    {
      "cell_type": "markdown",
      "source": [
        "###Formalizing\n",
        "Getting tensor attributes\n"
      ],
      "metadata": {
        "id": "SuVAg2psW6GB"
      }
    },
    {
      "cell_type": "code",
      "source": [
        "my_tensor = torch.rand(3, 4, 2).type(torch.float64).to(device = \"cpu\")\n",
        "print(my_tensor.dtype)\n",
        "print(my_tensor.shape)\n",
        "print(my_tensor.device)"
      ],
      "metadata": {
        "colab": {
          "base_uri": "https://localhost:8080/"
        },
        "id": "6qk27C90WduK",
        "outputId": "e2df4c30-81f6-4010-c4d7-11b89fbf011e"
      },
      "execution_count": null,
      "outputs": [
        {
          "output_type": "stream",
          "name": "stdout",
          "text": [
            "torch.float64\n",
            "torch.Size([3, 4, 2])\n",
            "cpu\n"
          ]
        }
      ]
    },
    {
      "cell_type": "markdown",
      "source": [
        "# Manipulating tensors\n",
        "\n",
        "Standard Tensor operations include:\n",
        "1.Addition\n",
        "2.Substraction\n",
        "3.Multiplicaton (element-wise)\n",
        "4.Division\n",
        "5.Matrix multiplication"
      ],
      "metadata": {
        "id": "_CsMdd5KYpW8"
      }
    },
    {
      "cell_type": "code",
      "source": [
        "tensor = torch.tensor([1, 2, 3])\n",
        "tensor2 = torch.tensor([1, 2, 3])\n",
        "tensor + tensor2"
      ],
      "metadata": {
        "colab": {
          "base_uri": "https://localhost:8080/"
        },
        "id": "pvBACRkqZDvh",
        "outputId": "2681c375-96c9-42fe-cc32-e2b79a24d781"
      },
      "execution_count": null,
      "outputs": [
        {
          "output_type": "execute_result",
          "data": {
            "text/plain": [
              "tensor([2, 4, 6])"
            ]
          },
          "metadata": {},
          "execution_count": 50
        }
      ]
    },
    {
      "cell_type": "code",
      "source": [
        "tensor + 2"
      ],
      "metadata": {
        "colab": {
          "base_uri": "https://localhost:8080/"
        },
        "id": "8lOZS_2GZOfw",
        "outputId": "3cb47a30-3590-4226-f44f-4d861e0e401a"
      },
      "execution_count": null,
      "outputs": [
        {
          "output_type": "execute_result",
          "data": {
            "text/plain": [
              "tensor([3, 4, 5])"
            ]
          },
          "metadata": {},
          "execution_count": 51
        }
      ]
    },
    {
      "cell_type": "code",
      "source": [
        "tensor * tensor2"
      ],
      "metadata": {
        "colab": {
          "base_uri": "https://localhost:8080/"
        },
        "id": "RVf7sE33ZQBQ",
        "outputId": "fa353dd3-90dd-44ae-9bd6-023134d6dee7"
      },
      "execution_count": null,
      "outputs": [
        {
          "output_type": "execute_result",
          "data": {
            "text/plain": [
              "tensor([1, 4, 9])"
            ]
          },
          "metadata": {},
          "execution_count": 52
        }
      ]
    },
    {
      "cell_type": "code",
      "source": [
        "tensor / tensor2"
      ],
      "metadata": {
        "colab": {
          "base_uri": "https://localhost:8080/"
        },
        "id": "5meuXx_3ZRhQ",
        "outputId": "0323810d-8b8e-44d3-8b8a-cd5b26b26427"
      },
      "execution_count": null,
      "outputs": [
        {
          "output_type": "execute_result",
          "data": {
            "text/plain": [
              "tensor([1., 1., 1.])"
            ]
          },
          "metadata": {},
          "execution_count": 53
        }
      ]
    },
    {
      "cell_type": "code",
      "source": [
        "torch.add(tensor, tensor2)"
      ],
      "metadata": {
        "colab": {
          "base_uri": "https://localhost:8080/"
        },
        "id": "QPfbgypwZcUf",
        "outputId": "a0588b44-bbc7-4249-efb2-76d2abf68ecc"
      },
      "execution_count": null,
      "outputs": [
        {
          "output_type": "execute_result",
          "data": {
            "text/plain": [
              "tensor([2, 4, 6])"
            ]
          },
          "metadata": {},
          "execution_count": 54
        }
      ]
    },
    {
      "cell_type": "markdown",
      "source": [
        "###Matrix multiplication\n",
        "\n",
        "It is a bit more complicated than just element wise right but lets take a look (can be also called dot product)"
      ],
      "metadata": {
        "id": "ybj8PaoPZw2u"
      }
    },
    {
      "cell_type": "code",
      "source": [
        "torch.matmul(tensor, tensor)"
      ],
      "metadata": {
        "colab": {
          "base_uri": "https://localhost:8080/"
        },
        "id": "KxOREs8dacSU",
        "outputId": "ef667893-bca8-4009-da24-ca84b8db3b19"
      },
      "execution_count": null,
      "outputs": [
        {
          "output_type": "execute_result",
          "data": {
            "text/plain": [
              "tensor(14)"
            ]
          },
          "metadata": {},
          "execution_count": 57
        }
      ]
    },
    {
      "cell_type": "code",
      "source": [
        "%%time\n",
        "value = 0\n",
        "for i in range(len(tensor)):\n",
        "  value += tensor[i] * tensor[i]\n",
        "print(value)"
      ],
      "metadata": {
        "colab": {
          "base_uri": "https://localhost:8080/"
        },
        "id": "tBgkiSusbLvD",
        "outputId": "bfbebacb-e0a9-465f-d835-32c35eb0eb9a"
      },
      "execution_count": null,
      "outputs": [
        {
          "output_type": "stream",
          "name": "stdout",
          "text": [
            "tensor(14)\n",
            "CPU times: user 1.03 ms, sys: 974 µs, total: 2 ms\n",
            "Wall time: 2.04 ms\n"
          ]
        }
      ]
    },
    {
      "cell_type": "code",
      "source": [
        "%%time\n",
        "torch.matmul(tensor, tensor)"
      ],
      "metadata": {
        "colab": {
          "base_uri": "https://localhost:8080/"
        },
        "id": "m80Y0VPrcEA9",
        "outputId": "0f596fdf-e703-476b-be60-11728911a2b7"
      },
      "execution_count": null,
      "outputs": [
        {
          "output_type": "stream",
          "name": "stdout",
          "text": [
            "CPU times: user 105 µs, sys: 7 µs, total: 112 µs\n",
            "Wall time: 117 µs\n"
          ]
        },
        {
          "output_type": "execute_result",
          "data": {
            "text/plain": [
              "tensor(14)"
            ]
          },
          "metadata": {},
          "execution_count": 60
        }
      ]
    },
    {
      "cell_type": "code",
      "source": [
        "%%time\n",
        "tensor @ tensor"
      ],
      "metadata": {
        "colab": {
          "base_uri": "https://localhost:8080/"
        },
        "id": "InexwIPAdiUS",
        "outputId": "326cd438-71e1-422f-ead5-fc2c4ec86d0f"
      },
      "execution_count": null,
      "outputs": [
        {
          "output_type": "stream",
          "name": "stdout",
          "text": [
            "CPU times: user 0 ns, sys: 836 µs, total: 836 µs\n",
            "Wall time: 688 µs\n"
          ]
        },
        {
          "output_type": "execute_result",
          "data": {
            "text/plain": [
              "tensor(14)"
            ]
          },
          "metadata": {},
          "execution_count": 61
        }
      ]
    },
    {
      "cell_type": "markdown",
      "source": [
        "Note that torch's implementation is infinitely faster. Also note that the matrice multiplication shouldn't have worked, but it does because of the way torch.matmul handles multiplication between two vectors, it just multiplies element wise and than adds the results"
      ],
      "metadata": {
        "id": "QWUgVPrsc9kt"
      }
    },
    {
      "cell_type": "markdown",
      "source": [
        "Normally, matrice multiplication needs to satisfy the basic rules for matrice multiplication though (inner dimensions must match)"
      ],
      "metadata": {
        "id": "KCvTb_64dQQ8"
      }
    },
    {
      "cell_type": "code",
      "source": [
        "# Will not work\n",
        "torch.matmul(torch.rand(3, 2), torch.rand(3, 2))"
      ],
      "metadata": {
        "colab": {
          "base_uri": "https://localhost:8080/",
          "height": 193
        },
        "id": "q9gUBVVWd0qw",
        "outputId": "30c69df9-248c-4f0a-9873-254c6b0a453d"
      },
      "execution_count": null,
      "outputs": [
        {
          "output_type": "error",
          "ename": "RuntimeError",
          "evalue": "ignored",
          "traceback": [
            "\u001b[0;31m---------------------------------------------------------------------------\u001b[0m",
            "\u001b[0;31mRuntimeError\u001b[0m                              Traceback (most recent call last)",
            "\u001b[0;32m<ipython-input-63-3dce0a3c0468>\u001b[0m in \u001b[0;36m<cell line: 2>\u001b[0;34m()\u001b[0m\n\u001b[1;32m      1\u001b[0m \u001b[0;31m# Will not work\u001b[0m\u001b[0;34m\u001b[0m\u001b[0;34m\u001b[0m\u001b[0m\n\u001b[0;32m----> 2\u001b[0;31m \u001b[0mtorch\u001b[0m\u001b[0;34m.\u001b[0m\u001b[0mmatmul\u001b[0m\u001b[0;34m(\u001b[0m\u001b[0mtorch\u001b[0m\u001b[0;34m.\u001b[0m\u001b[0mrand\u001b[0m\u001b[0;34m(\u001b[0m\u001b[0;36m3\u001b[0m\u001b[0;34m,\u001b[0m \u001b[0;36m2\u001b[0m\u001b[0;34m)\u001b[0m\u001b[0;34m,\u001b[0m \u001b[0mtorch\u001b[0m\u001b[0;34m.\u001b[0m\u001b[0mrand\u001b[0m\u001b[0;34m(\u001b[0m\u001b[0;36m3\u001b[0m\u001b[0;34m,\u001b[0m \u001b[0;36m2\u001b[0m\u001b[0;34m)\u001b[0m\u001b[0;34m)\u001b[0m\u001b[0;34m\u001b[0m\u001b[0;34m\u001b[0m\u001b[0m\n\u001b[0m",
            "\u001b[0;31mRuntimeError\u001b[0m: mat1 and mat2 shapes cannot be multiplied (3x2 and 3x2)"
          ]
        }
      ]
    },
    {
      "cell_type": "code",
      "source": [
        "# Works because it transfors the second torch into a shape of 3x1\n",
        "torch.matmul(torch.rand(2, 3), torch.rand(3)).shape"
      ],
      "metadata": {
        "colab": {
          "base_uri": "https://localhost:8080/"
        },
        "id": "dtQqsscTd-je",
        "outputId": "3c5e18b6-aff9-474c-e12a-17cd5b85e751"
      },
      "execution_count": null,
      "outputs": [
        {
          "output_type": "execute_result",
          "data": {
            "text/plain": [
              "torch.Size([2])"
            ]
          },
          "metadata": {},
          "execution_count": 67
        }
      ]
    },
    {
      "cell_type": "code",
      "source": [
        "tensor_b = torch.tensor([[1, 2],\n",
        "                         [3, 4],\n",
        "                         [5, 6]])\n",
        "tensor_a = torch.tensor([[7, 10],\n",
        "                        [8, 11],\n",
        "                        [9, 12]])"
      ],
      "metadata": {
        "id": "p1Ma8MXfeWOd"
      },
      "execution_count": null,
      "outputs": []
    },
    {
      "cell_type": "code",
      "source": [
        "# Example of not working\n",
        "torch.mm(tensor_a, tensor_b)"
      ],
      "metadata": {
        "colab": {
          "base_uri": "https://localhost:8080/",
          "height": 193
        },
        "id": "r226DbLBgHFx",
        "outputId": "08220875-8aa2-4c5e-ec2f-c58c88879fef"
      },
      "execution_count": null,
      "outputs": [
        {
          "output_type": "error",
          "ename": "RuntimeError",
          "evalue": "ignored",
          "traceback": [
            "\u001b[0;31m---------------------------------------------------------------------------\u001b[0m",
            "\u001b[0;31mRuntimeError\u001b[0m                              Traceback (most recent call last)",
            "\u001b[0;32m<ipython-input-72-a1bca58de597>\u001b[0m in \u001b[0;36m<cell line: 2>\u001b[0;34m()\u001b[0m\n\u001b[1;32m      1\u001b[0m \u001b[0;31m# Example of not working\u001b[0m\u001b[0;34m\u001b[0m\u001b[0;34m\u001b[0m\u001b[0m\n\u001b[0;32m----> 2\u001b[0;31m \u001b[0mtorch\u001b[0m\u001b[0;34m.\u001b[0m\u001b[0mmm\u001b[0m\u001b[0;34m(\u001b[0m\u001b[0mtensor_a\u001b[0m\u001b[0;34m,\u001b[0m \u001b[0mtensor_b\u001b[0m\u001b[0;34m)\u001b[0m\u001b[0;34m\u001b[0m\u001b[0;34m\u001b[0m\u001b[0m\n\u001b[0m",
            "\u001b[0;31mRuntimeError\u001b[0m: mat1 and mat2 shapes cannot be multiplied (3x2 and 3x2)"
          ]
        }
      ]
    },
    {
      "cell_type": "code",
      "source": [
        "tensor_a.shape, tensor_b.shape"
      ],
      "metadata": {
        "colab": {
          "base_uri": "https://localhost:8080/"
        },
        "id": "_Ivu4HcUgXPf",
        "outputId": "99f27035-ecbd-4ab3-df68-3ec45bcd19d2"
      },
      "execution_count": null,
      "outputs": [
        {
          "output_type": "execute_result",
          "data": {
            "text/plain": [
              "(torch.Size([3, 2]), torch.Size([3, 2]))"
            ]
          },
          "metadata": {},
          "execution_count": 74
        }
      ]
    },
    {
      "cell_type": "markdown",
      "source": [
        "To fix this we could use **transpose** which effectively rotates pi/2 the matrice, or swaps dimensions"
      ],
      "metadata": {
        "id": "bmWwLNjmgijM"
      }
    },
    {
      "cell_type": "code",
      "source": [
        "tensor_b"
      ],
      "metadata": {
        "colab": {
          "base_uri": "https://localhost:8080/"
        },
        "id": "C292_925gfov",
        "outputId": "4a9b95b7-6658-4c15-dd0f-42bcbb45823d"
      },
      "execution_count": null,
      "outputs": [
        {
          "output_type": "execute_result",
          "data": {
            "text/plain": [
              "tensor([[1, 2],\n",
              "        [3, 4],\n",
              "        [5, 6]])"
            ]
          },
          "metadata": {},
          "execution_count": 75
        }
      ]
    },
    {
      "cell_type": "code",
      "source": [
        "tensor_b.T"
      ],
      "metadata": {
        "colab": {
          "base_uri": "https://localhost:8080/"
        },
        "id": "XkA4s7EegtoO",
        "outputId": "8ea71457-6148-4faf-f480-cadf5fad6611"
      },
      "execution_count": null,
      "outputs": [
        {
          "output_type": "execute_result",
          "data": {
            "text/plain": [
              "tensor([[1, 3, 5],\n",
              "        [2, 4, 6]])"
            ]
          },
          "metadata": {},
          "execution_count": 76
        }
      ]
    },
    {
      "cell_type": "code",
      "source": [
        "tensor_b.T.shape, tensor_b.shape"
      ],
      "metadata": {
        "colab": {
          "base_uri": "https://localhost:8080/"
        },
        "id": "etBJMcycgxwO",
        "outputId": "bd34cdc4-5e50-480e-8762-41e3bbaeb759"
      },
      "execution_count": null,
      "outputs": [
        {
          "output_type": "execute_result",
          "data": {
            "text/plain": [
              "(torch.Size([2, 3]), torch.Size([3, 2]))"
            ]
          },
          "metadata": {},
          "execution_count": 78
        }
      ]
    },
    {
      "cell_type": "code",
      "source": [
        "tensor_c = torch.tensor([[[1, 2],\n",
        "                        [3, 4]],\n",
        "                       [[5, 6],\n",
        "                        [7, 8]]])"
      ],
      "metadata": {
        "id": "rGqP822nhE5q"
      },
      "execution_count": null,
      "outputs": []
    },
    {
      "cell_type": "code",
      "source": [
        "tensor_c.shape"
      ],
      "metadata": {
        "colab": {
          "base_uri": "https://localhost:8080/"
        },
        "id": "0uwG135jhe7S",
        "outputId": "0abb92a2-1edd-4bc9-ec25-a5211b2e4b02"
      },
      "execution_count": null,
      "outputs": [
        {
          "output_type": "execute_result",
          "data": {
            "text/plain": [
              "torch.Size([2, 2, 2])"
            ]
          },
          "metadata": {},
          "execution_count": 84
        }
      ]
    },
    {
      "cell_type": "code",
      "source": [
        "tensor_c"
      ],
      "metadata": {
        "colab": {
          "base_uri": "https://localhost:8080/"
        },
        "id": "PZnN2Ek2hY7Y",
        "outputId": "e4a2e791-cd87-40ef-e160-0c55d0db1666"
      },
      "execution_count": null,
      "outputs": [
        {
          "output_type": "execute_result",
          "data": {
            "text/plain": [
              "tensor([[[1, 2],\n",
              "         [3, 4]],\n",
              "\n",
              "        [[5, 6],\n",
              "         [7, 8]]])"
            ]
          },
          "metadata": {},
          "execution_count": 85
        }
      ]
    },
    {
      "cell_type": "code",
      "source": [
        "tensor_c.T"
      ],
      "metadata": {
        "colab": {
          "base_uri": "https://localhost:8080/"
        },
        "id": "t6qIp8QfhXGI",
        "outputId": "23a454b8-9530-4e95-d005-3d9e916d08fe"
      },
      "execution_count": null,
      "outputs": [
        {
          "output_type": "stream",
          "name": "stderr",
          "text": [
            "<ipython-input-86-99b1377dfaf2>:1: UserWarning: The use of `x.T` on tensors of dimension other than 2 to reverse their shape is deprecated and it will throw an error in a future release. Consider `x.mT` to transpose batches of matrices or `x.permute(*torch.arange(x.ndim - 1, -1, -1))` to reverse the dimensions of a tensor. (Triggered internally at ../aten/src/ATen/native/TensorShape.cpp:3571.)\n",
            "  tensor_c.T\n"
          ]
        },
        {
          "output_type": "execute_result",
          "data": {
            "text/plain": [
              "tensor([[[1, 5],\n",
              "         [3, 7]],\n",
              "\n",
              "        [[2, 6],\n",
              "         [4, 8]]])"
            ]
          },
          "metadata": {},
          "execution_count": 86
        }
      ]
    },
    {
      "cell_type": "markdown",
      "source": [
        "Transpose works for higher dimensions but its not recommended"
      ],
      "metadata": {
        "id": "BQiJoFXPhrzG"
      }
    },
    {
      "cell_type": "code",
      "source": [
        "# Torch compressing the 3d 2x2x2 into a 2d 2x4 matrice to make the multiplication\n",
        "torch.matmul(tensor_c, tensor_a.T)"
      ],
      "metadata": {
        "colab": {
          "base_uri": "https://localhost:8080/"
        },
        "id": "CK7n5xRXhzd1",
        "outputId": "b33b6110-0ea4-4cae-bf23-38336d978b8f"
      },
      "execution_count": null,
      "outputs": [
        {
          "output_type": "execute_result",
          "data": {
            "text/plain": [
              "tensor([[[ 27,  30,  33],\n",
              "         [ 61,  68,  75]],\n",
              "\n",
              "        [[ 95, 106, 117],\n",
              "         [129, 144, 159]]])"
            ]
          },
          "metadata": {},
          "execution_count": 94
        }
      ]
    },
    {
      "cell_type": "code",
      "source": [
        "torch.matmul(tensor_a, tensor_c)"
      ],
      "metadata": {
        "colab": {
          "base_uri": "https://localhost:8080/"
        },
        "id": "LP8VElgEiqNn",
        "outputId": "0ae2c2e7-0ad7-42ff-8e7d-f7cf39098a63"
      },
      "execution_count": null,
      "outputs": [
        {
          "output_type": "execute_result",
          "data": {
            "text/plain": [
              "tensor([[[ 37,  54],\n",
              "         [ 41,  60],\n",
              "         [ 45,  66]],\n",
              "\n",
              "        [[105, 122],\n",
              "         [117, 136],\n",
              "         [129, 150]]])"
            ]
          },
          "metadata": {},
          "execution_count": 95
        }
      ]
    },
    {
      "cell_type": "markdown",
      "source": [
        "#Finding min, max, mean, sum and etc"
      ],
      "metadata": {
        "id": "Zka9qGnCjEJQ"
      }
    },
    {
      "cell_type": "code",
      "source": [
        "x = torch.arange(0, 100, 10)"
      ],
      "metadata": {
        "id": "tIsH4QyWjKCK"
      },
      "execution_count": null,
      "outputs": []
    },
    {
      "cell_type": "code",
      "source": [
        "x.min()"
      ],
      "metadata": {
        "colab": {
          "base_uri": "https://localhost:8080/"
        },
        "id": "eitEyr_7jUt7",
        "outputId": "64cd6d48-6653-42fb-9895-95da0125fa1a"
      },
      "execution_count": null,
      "outputs": [
        {
          "output_type": "execute_result",
          "data": {
            "text/plain": [
              "tensor(0)"
            ]
          },
          "metadata": {},
          "execution_count": 100
        }
      ]
    },
    {
      "cell_type": "code",
      "source": [
        "x.type(torch.float32).max()"
      ],
      "metadata": {
        "colab": {
          "base_uri": "https://localhost:8080/"
        },
        "id": "kuG4fdlejdtY",
        "outputId": "f6debdd5-880b-4660-fb64-1565b9c8e856"
      },
      "execution_count": null,
      "outputs": [
        {
          "output_type": "execute_result",
          "data": {
            "text/plain": [
              "tensor(90.)"
            ]
          },
          "metadata": {},
          "execution_count": 104
        }
      ]
    },
    {
      "cell_type": "code",
      "source": [
        "# torch.mean() doesn't work with longs (integers)\n",
        "x.type(torch.float64).mean()"
      ],
      "metadata": {
        "colab": {
          "base_uri": "https://localhost:8080/"
        },
        "id": "UuvXp14jjfHY",
        "outputId": "541e666a-c2f9-4021-b566-f076f0f1973e"
      },
      "execution_count": null,
      "outputs": [
        {
          "output_type": "execute_result",
          "data": {
            "text/plain": [
              "tensor(45., dtype=torch.float64)"
            ]
          },
          "metadata": {},
          "execution_count": 106
        }
      ]
    },
    {
      "cell_type": "code",
      "source": [
        "tensor_d = torch.rand(4, 4, 4, 4)"
      ],
      "metadata": {
        "id": "F1dv7A8ikMzD"
      },
      "execution_count": null,
      "outputs": []
    },
    {
      "cell_type": "code",
      "source": [
        "tensor_d"
      ],
      "metadata": {
        "colab": {
          "base_uri": "https://localhost:8080/"
        },
        "id": "T_-8_2UFloD5",
        "outputId": "9770fb70-6dbd-44bd-99f4-aaab5b062b36"
      },
      "execution_count": null,
      "outputs": [
        {
          "output_type": "execute_result",
          "data": {
            "text/plain": [
              "tensor([[[[0.8312, 0.0037, 0.4350, 0.2271],\n",
              "          [0.3414, 0.3101, 0.8504, 0.4678],\n",
              "          [0.8801, 0.3191, 0.4485, 0.4791],\n",
              "          [0.2611, 0.2553, 0.4474, 0.8219]],\n",
              "\n",
              "         [[0.3667, 0.6216, 0.3528, 0.8815],\n",
              "          [0.4752, 0.6316, 0.5496, 0.5345],\n",
              "          [0.2651, 0.6687, 0.3628, 0.1719],\n",
              "          [0.3527, 0.5088, 0.5949, 0.0433]],\n",
              "\n",
              "         [[0.1756, 0.2218, 0.4432, 0.4829],\n",
              "          [0.6427, 0.4935, 0.4789, 0.7464],\n",
              "          [0.8975, 0.1799, 0.7434, 0.2751],\n",
              "          [0.0736, 0.6898, 0.4388, 0.1036]],\n",
              "\n",
              "         [[0.3213, 0.6143, 0.3062, 0.6498],\n",
              "          [0.0670, 0.3457, 0.7616, 0.3412],\n",
              "          [0.9836, 0.2644, 0.2500, 0.7914],\n",
              "          [0.8757, 0.2538, 0.0961, 0.3221]]],\n",
              "\n",
              "\n",
              "        [[[0.2857, 0.7864, 0.1589, 0.5270],\n",
              "          [0.5886, 0.6124, 0.2125, 0.3771],\n",
              "          [0.0719, 0.0019, 0.8515, 0.0332],\n",
              "          [0.0839, 0.8322, 0.8451, 0.7960]],\n",
              "\n",
              "         [[0.4776, 0.6429, 0.5240, 0.0147],\n",
              "          [0.9475, 0.6325, 0.9949, 0.6053],\n",
              "          [0.3677, 0.5384, 0.7759, 0.2514],\n",
              "          [0.5919, 0.9095, 0.7177, 0.0993]],\n",
              "\n",
              "         [[0.4259, 0.3793, 0.8855, 0.2724],\n",
              "          [0.3996, 0.0890, 0.6021, 0.1798],\n",
              "          [0.4080, 0.4096, 0.6418, 0.6947],\n",
              "          [0.0367, 0.6368, 0.4614, 0.0604]],\n",
              "\n",
              "         [[0.4850, 0.8559, 0.8779, 0.2137],\n",
              "          [0.5020, 0.7502, 0.6808, 0.3790],\n",
              "          [0.7221, 0.5651, 0.0421, 0.6982],\n",
              "          [0.1804, 0.7776, 0.9105, 0.0764]]],\n",
              "\n",
              "\n",
              "        [[[0.1598, 0.8411, 0.6714, 0.1015],\n",
              "          [0.7218, 0.9023, 0.2566, 0.8249],\n",
              "          [0.9644, 0.3835, 0.1537, 0.3829],\n",
              "          [0.1750, 0.2052, 0.7349, 0.8861]],\n",
              "\n",
              "         [[0.9015, 0.7448, 0.2131, 0.8678],\n",
              "          [0.8319, 0.7169, 0.2935, 0.1245],\n",
              "          [0.3929, 0.9848, 0.2641, 0.8096],\n",
              "          [0.3744, 0.0559, 0.5621, 0.0241]],\n",
              "\n",
              "         [[0.2588, 0.3296, 0.6766, 0.4830],\n",
              "          [0.0999, 0.7288, 0.8515, 0.9713],\n",
              "          [0.2997, 0.1958, 0.3048, 0.9328],\n",
              "          [0.5554, 0.8064, 0.4787, 0.1249]],\n",
              "\n",
              "         [[0.5904, 0.9093, 0.3975, 0.5953],\n",
              "          [0.2723, 0.7173, 0.9527, 0.7364],\n",
              "          [0.4646, 0.2251, 0.7700, 0.8085],\n",
              "          [0.8674, 0.3149, 0.5314, 0.3238]]],\n",
              "\n",
              "\n",
              "        [[[0.4730, 0.6803, 0.3915, 0.5459],\n",
              "          [0.4831, 0.8755, 0.5446, 0.4676],\n",
              "          [0.9101, 0.0889, 0.7888, 0.5877],\n",
              "          [0.0301, 0.4880, 0.2482, 0.6393]],\n",
              "\n",
              "         [[0.0021, 0.5983, 0.7894, 0.0868],\n",
              "          [0.5965, 0.5300, 0.1856, 0.6298],\n",
              "          [0.5468, 0.1195, 0.0522, 0.9177],\n",
              "          [0.0891, 0.2834, 0.6039, 0.4656]],\n",
              "\n",
              "         [[0.3090, 0.8831, 0.6216, 0.2630],\n",
              "          [0.4180, 0.6352, 0.9426, 0.9164],\n",
              "          [0.7419, 0.6331, 0.3059, 0.8782],\n",
              "          [0.5949, 0.6136, 0.9666, 0.4467]],\n",
              "\n",
              "         [[0.2368, 0.6374, 0.6469, 0.2112],\n",
              "          [0.6798, 0.3852, 0.2030, 0.4966],\n",
              "          [0.0882, 0.1857, 0.2055, 0.3465],\n",
              "          [0.1151, 0.6457, 0.5033, 0.0210]]]])"
            ]
          },
          "metadata": {},
          "execution_count": 125
        }
      ]
    },
    {
      "cell_type": "code",
      "source": [
        "torch.argmin(tensor_d, dim = 3)"
      ],
      "metadata": {
        "colab": {
          "base_uri": "https://localhost:8080/"
        },
        "id": "fcIN3Sn9kq2f",
        "outputId": "bb5b2343-dbfa-481c-ce22-56d70080c28a"
      },
      "execution_count": null,
      "outputs": [
        {
          "output_type": "execute_result",
          "data": {
            "text/plain": [
              "tensor([[[1, 1, 1, 1],\n",
              "         [2, 0, 3, 3],\n",
              "         [0, 2, 1, 0],\n",
              "         [2, 0, 2, 2]],\n",
              "\n",
              "        [[2, 2, 1, 0],\n",
              "         [3, 3, 3, 3],\n",
              "         [3, 1, 0, 0],\n",
              "         [3, 3, 2, 3]],\n",
              "\n",
              "        [[3, 2, 2, 0],\n",
              "         [2, 3, 2, 3],\n",
              "         [0, 0, 1, 3],\n",
              "         [2, 0, 1, 1]],\n",
              "\n",
              "        [[2, 3, 1, 0],\n",
              "         [0, 2, 2, 0],\n",
              "         [3, 0, 2, 3],\n",
              "         [3, 2, 0, 3]]])"
            ]
          },
          "metadata": {},
          "execution_count": 128
        }
      ]
    },
    {
      "cell_type": "markdown",
      "source": [
        "## Reshaping tensors, stacking, squeezing and unsqueezing.\n",
        "\n",
        "* Reshaping - reshapes an input tensor (simple af)\n",
        "* View - Return a view of the input tensor but keep the same memory as the original\n",
        "\n",
        "* Stack - Combine multiple tensors on top of each other\n",
        "\n",
        "* Squeeze - removes all '1' dimensions from a tensor\n",
        "\n",
        "* Unsqueeze - add a '1' dimension to a tensor\n",
        "\n",
        "* Permute - Return a view of the input with dimensions swapped (in a specified way)\n"
      ],
      "metadata": {
        "id": "1pgo9qA-lRcL"
      }
    },
    {
      "cell_type": "code",
      "source": [
        "# Importing torch to not need to run all code above\n",
        "import torch"
      ],
      "metadata": {
        "id": "NBaEt8Lq7TPX"
      },
      "execution_count": 1,
      "outputs": []
    },
    {
      "cell_type": "code",
      "source": [
        "t = torch.arange(1., 10.)\n",
        "t, t.shape"
      ],
      "metadata": {
        "colab": {
          "base_uri": "https://localhost:8080/"
        },
        "id": "OEXhhBq880KP",
        "outputId": "10a54916-5217-4c9e-c9e9-ade1ff856a53"
      },
      "execution_count": 2,
      "outputs": [
        {
          "output_type": "execute_result",
          "data": {
            "text/plain": [
              "(tensor([1., 2., 3., 4., 5., 6., 7., 8., 9.]), torch.Size([9]))"
            ]
          },
          "metadata": {},
          "execution_count": 2
        }
      ]
    },
    {
      "cell_type": "code",
      "source": [
        "t_reshaped = t.reshape(3, 3)"
      ],
      "metadata": {
        "id": "Xdyx6tEz871d"
      },
      "execution_count": 10,
      "outputs": []
    },
    {
      "cell_type": "code",
      "source": [
        "z = t.view(1, 9)\n",
        "z, z.shape\n",
        "\n",
        "#But z actually shares memory with t"
      ],
      "metadata": {
        "colab": {
          "base_uri": "https://localhost:8080/"
        },
        "id": "PDdWvHLn9Pjv",
        "outputId": "dbb2560d-0305-4ce1-c31e-44fd2fdd844e"
      },
      "execution_count": 12,
      "outputs": [
        {
          "output_type": "execute_result",
          "data": {
            "text/plain": [
              "(tensor([[1., 2., 3., 4., 5., 6., 7., 8., 9.]]), torch.Size([1, 9]))"
            ]
          },
          "metadata": {},
          "execution_count": 12
        }
      ]
    },
    {
      "cell_type": "code",
      "source": [
        "z[0, 0] = 5.\n",
        "t, z"
      ],
      "metadata": {
        "colab": {
          "base_uri": "https://localhost:8080/"
        },
        "id": "IkGb_a35-FDJ",
        "outputId": "22f672bf-c5a5-43c3-ae87-2b050c1792c2"
      },
      "execution_count": 15,
      "outputs": [
        {
          "output_type": "execute_result",
          "data": {
            "text/plain": [
              "(tensor([5., 2., 3., 4., 5., 6., 7., 8., 9.]),\n",
              " tensor([[5., 2., 3., 4., 5., 6., 7., 8., 9.]]))"
            ]
          },
          "metadata": {},
          "execution_count": 15
        }
      ]
    },
    {
      "cell_type": "code",
      "source": [
        "tz = torch.vstack([t, z])\n",
        "tz[0, 0] = 2\n",
        "tz"
      ],
      "metadata": {
        "colab": {
          "base_uri": "https://localhost:8080/"
        },
        "id": "dkmdCmkJ-M9Y",
        "outputId": "0824656a-e25f-4674-c85e-3283f1c17677"
      },
      "execution_count": 20,
      "outputs": [
        {
          "output_type": "execute_result",
          "data": {
            "text/plain": [
              "tensor([[2., 2., 3., 4., 5., 6., 7., 8., 9.],\n",
              "        [2., 2., 3., 4., 5., 6., 7., 8., 9.]])"
            ]
          },
          "metadata": {},
          "execution_count": 20
        }
      ]
    },
    {
      "cell_type": "code",
      "source": [
        "t1 = torch.rand(3, 3)\n",
        "t2 = torch.rand(3, 3)\n",
        "\n",
        "t1, t2"
      ],
      "metadata": {
        "colab": {
          "base_uri": "https://localhost:8080/"
        },
        "id": "p3B7oB0z-L6I",
        "outputId": "6bb222a6-b14a-4acb-fac3-5e14028e1471"
      },
      "execution_count": 39,
      "outputs": [
        {
          "output_type": "execute_result",
          "data": {
            "text/plain": [
              "(tensor([[0.5732, 0.2201, 0.4357],\n",
              "         [0.7347, 0.5292, 0.1795],\n",
              "         [0.4615, 0.0870, 0.2632]]),\n",
              " tensor([[0.6998, 0.5333, 0.0477],\n",
              "         [0.9624, 0.8674, 0.5202],\n",
              "         [0.9935, 0.8502, 0.5360]]))"
            ]
          },
          "metadata": {},
          "execution_count": 39
        }
      ]
    },
    {
      "cell_type": "code",
      "source": [
        "t1_unsqueezed = torch.unsqueeze(t1, dim = 2)\n",
        "t1_unsqueezed"
      ],
      "metadata": {
        "colab": {
          "base_uri": "https://localhost:8080/"
        },
        "id": "2K_mD--7-_NB",
        "outputId": "c027915d-db95-40a0-ae45-9c784c46e3ec"
      },
      "execution_count": 54,
      "outputs": [
        {
          "output_type": "execute_result",
          "data": {
            "text/plain": [
              "tensor([[[0.5732],\n",
              "         [0.2201],\n",
              "         [0.4357]],\n",
              "\n",
              "        [[0.7347],\n",
              "         [0.5292],\n",
              "         [0.1795]],\n",
              "\n",
              "        [[0.4615],\n",
              "         [0.0870],\n",
              "         [0.2632]]])"
            ]
          },
          "metadata": {},
          "execution_count": 54
        }
      ]
    },
    {
      "cell_type": "code",
      "source": [
        "t1_squeezed = torch.squeeze(t1)\n",
        "t1_squeezed"
      ],
      "metadata": {
        "colab": {
          "base_uri": "https://localhost:8080/"
        },
        "id": "rEirJlmL_sKu",
        "outputId": "f9202eb8-905f-46ae-ddd3-0b64332ddfa6"
      },
      "execution_count": 55,
      "outputs": [
        {
          "output_type": "execute_result",
          "data": {
            "text/plain": [
              "tensor([[0.5732, 0.2201, 0.4357],\n",
              "        [0.7347, 0.5292, 0.1795],\n",
              "        [0.4615, 0.0870, 0.2632]])"
            ]
          },
          "metadata": {},
          "execution_count": 55
        }
      ]
    },
    {
      "cell_type": "code",
      "source": [
        "t_reshaped.shape"
      ],
      "metadata": {
        "colab": {
          "base_uri": "https://localhost:8080/"
        },
        "id": "zj9VbaDGBxhz",
        "outputId": "4cfaf1b0-4adc-4e1f-e189-be6d2ce1e282"
      },
      "execution_count": 57,
      "outputs": [
        {
          "output_type": "execute_result",
          "data": {
            "text/plain": [
              "torch.Size([3, 3])"
            ]
          },
          "metadata": {},
          "execution_count": 57
        }
      ]
    },
    {
      "cell_type": "code",
      "source": [
        "# Resume\n",
        "t3 = torch.rand(3, 3)\n",
        "print(f\"Normal tensor {t3}\")\n",
        "print(\"________________________________\")\n",
        "print(f\"unsqueezed in dim 0 {torch.unsqueeze(t3, dim = 0)}\")\n",
        "print(\"________________________________\")\n",
        "print(f\"unsqueezed in dim 1 {torch.unsqueeze(t3, dim = 1)}\")\n",
        "print(\"________________________________\")\n",
        "print(f\"unsqueezed in dim 2 {torch.unsqueeze(t3, dim = 2)}\")\n",
        "print(\"________________________________\")\n",
        "print(f\"squeezed back {torch.squeeze(t3)}\")"
      ],
      "metadata": {
        "colab": {
          "base_uri": "https://localhost:8080/"
        },
        "id": "C2F2LD5cCcmC",
        "outputId": "f9685899-514a-492c-c026-c394d02abda0"
      },
      "execution_count": 61,
      "outputs": [
        {
          "output_type": "stream",
          "name": "stdout",
          "text": [
            "Normal tensor tensor([[0.2278, 0.8095, 0.5995],\n",
            "        [0.0878, 0.0887, 0.1695],\n",
            "        [0.5426, 0.9110, 0.4409]])\n",
            "________________________________\n",
            "unsqueezed in dim 0 tensor([[[0.2278, 0.8095, 0.5995],\n",
            "         [0.0878, 0.0887, 0.1695],\n",
            "         [0.5426, 0.9110, 0.4409]]])\n",
            "________________________________\n",
            "unsqueezed in dim 1 tensor([[[0.2278, 0.8095, 0.5995]],\n",
            "\n",
            "        [[0.0878, 0.0887, 0.1695]],\n",
            "\n",
            "        [[0.5426, 0.9110, 0.4409]]])\n",
            "________________________________\n",
            "unsqueezed in dim 2 tensor([[[0.2278],\n",
            "         [0.8095],\n",
            "         [0.5995]],\n",
            "\n",
            "        [[0.0878],\n",
            "         [0.0887],\n",
            "         [0.1695]],\n",
            "\n",
            "        [[0.5426],\n",
            "         [0.9110],\n",
            "         [0.4409]]])\n",
            "________________________________\n",
            "squeezed back tensor([[0.2278, 0.8095, 0.5995],\n",
            "        [0.0878, 0.0887, 0.1695],\n",
            "        [0.5426, 0.9110, 0.4409]])\n"
          ]
        }
      ]
    },
    {
      "cell_type": "code",
      "source": [
        "t3, torch.permute(t3, dims = (1,0))"
      ],
      "metadata": {
        "colab": {
          "base_uri": "https://localhost:8080/"
        },
        "id": "yrLWjAB7Ej-i",
        "outputId": "90faf948-1efc-40a8-ce90-22a572ec5188"
      },
      "execution_count": 70,
      "outputs": [
        {
          "output_type": "execute_result",
          "data": {
            "text/plain": [
              "(tensor([[0.2278, 0.8095, 0.5995],\n",
              "         [0.0878, 0.0887, 0.1695],\n",
              "         [0.5426, 0.9110, 0.4409]]),\n",
              " tensor([[0.2278, 0.0878, 0.5426],\n",
              "         [0.8095, 0.0887, 0.9110],\n",
              "         [0.5995, 0.1695, 0.4409]]))"
            ]
          },
          "metadata": {},
          "execution_count": 70
        }
      ]
    },
    {
      "cell_type": "code",
      "source": [
        "img = torch.rand(size = (224, 224, 3))\n",
        "img.shape"
      ],
      "metadata": {
        "colab": {
          "base_uri": "https://localhost:8080/"
        },
        "id": "25Hihlm0HHiT",
        "outputId": "38318410-0f87-47ef-dd61-ec84f787e20c"
      },
      "execution_count": 72,
      "outputs": [
        {
          "output_type": "execute_result",
          "data": {
            "text/plain": [
              "torch.Size([224, 224, 3])"
            ]
          },
          "metadata": {},
          "execution_count": 72
        }
      ]
    },
    {
      "cell_type": "code",
      "source": [
        "torch.permute(img, dims = (2, 0, 1)).shape, torch.permute(img, dims = (0, 2, 1)).shape"
      ],
      "metadata": {
        "colab": {
          "base_uri": "https://localhost:8080/"
        },
        "id": "dKZhzmIiHVAR",
        "outputId": "749816bd-8210-47c8-c7e6-0c003a78c61b"
      },
      "execution_count": 76,
      "outputs": [
        {
          "output_type": "execute_result",
          "data": {
            "text/plain": [
              "(torch.Size([3, 224, 224]), torch.Size([224, 3, 224]))"
            ]
          },
          "metadata": {},
          "execution_count": 76
        }
      ]
    },
    {
      "cell_type": "code",
      "source": [
        "img[0][0][0] = 0.4\n",
        "print(img[0][0][0])\n",
        "img[0][0][0] = 0.0\n",
        "torch.permute(img, dims = (0, 2, 1))[0][0][0]"
      ],
      "metadata": {
        "colab": {
          "base_uri": "https://localhost:8080/"
        },
        "id": "C8MqkkHzHnHh",
        "outputId": "e6244fdc-9c01-437f-f62e-4d40520254a4"
      },
      "execution_count": 83,
      "outputs": [
        {
          "output_type": "stream",
          "name": "stdout",
          "text": [
            "tensor(0.4000)\n"
          ]
        },
        {
          "output_type": "execute_result",
          "data": {
            "text/plain": [
              "tensor(0.)"
            ]
          },
          "metadata": {},
          "execution_count": 83
        }
      ]
    },
    {
      "cell_type": "markdown",
      "source": [
        "# Indexing\n",
        "\n",
        "Same as Numpy"
      ],
      "metadata": {
        "id": "DWR0DO-TIoxr"
      }
    },
    {
      "cell_type": "code",
      "source": [
        "import torch"
      ],
      "metadata": {
        "id": "nl3amxepJyG9"
      },
      "execution_count": 84,
      "outputs": []
    },
    {
      "cell_type": "code",
      "source": [
        "t = torch.arange(1,100).reshape(11, 3, 3)\n",
        "t, t.shape"
      ],
      "metadata": {
        "colab": {
          "base_uri": "https://localhost:8080/"
        },
        "id": "OkdnoRQwJ0AE",
        "outputId": "57e550e3-dbfa-4c4d-b6dd-8dbff42533b6"
      },
      "execution_count": 95,
      "outputs": [
        {
          "output_type": "execute_result",
          "data": {
            "text/plain": [
              "(tensor([[[ 1,  2,  3],\n",
              "          [ 4,  5,  6],\n",
              "          [ 7,  8,  9]],\n",
              " \n",
              "         [[10, 11, 12],\n",
              "          [13, 14, 15],\n",
              "          [16, 17, 18]],\n",
              " \n",
              "         [[19, 20, 21],\n",
              "          [22, 23, 24],\n",
              "          [25, 26, 27]],\n",
              " \n",
              "         [[28, 29, 30],\n",
              "          [31, 32, 33],\n",
              "          [34, 35, 36]],\n",
              " \n",
              "         [[37, 38, 39],\n",
              "          [40, 41, 42],\n",
              "          [43, 44, 45]],\n",
              " \n",
              "         [[46, 47, 48],\n",
              "          [49, 50, 51],\n",
              "          [52, 53, 54]],\n",
              " \n",
              "         [[55, 56, 57],\n",
              "          [58, 59, 60],\n",
              "          [61, 62, 63]],\n",
              " \n",
              "         [[64, 65, 66],\n",
              "          [67, 68, 69],\n",
              "          [70, 71, 72]],\n",
              " \n",
              "         [[73, 74, 75],\n",
              "          [76, 77, 78],\n",
              "          [79, 80, 81]],\n",
              " \n",
              "         [[82, 83, 84],\n",
              "          [85, 86, 87],\n",
              "          [88, 89, 90]],\n",
              " \n",
              "         [[91, 92, 93],\n",
              "          [94, 95, 96],\n",
              "          [97, 98, 99]]]),\n",
              " torch.Size([11, 3, 3]))"
            ]
          },
          "metadata": {},
          "execution_count": 95
        }
      ]
    },
    {
      "cell_type": "code",
      "source": [
        "t[0] , t[0,1], t[0][1][2]"
      ],
      "metadata": {
        "colab": {
          "base_uri": "https://localhost:8080/"
        },
        "id": "DOmDjbm_K03c",
        "outputId": "3877d3a1-ed6d-4b30-ac08-c0b2dde7d037"
      },
      "execution_count": 91,
      "outputs": [
        {
          "output_type": "execute_result",
          "data": {
            "text/plain": [
              "(tensor([[1, 2, 3],\n",
              "         [4, 5, 6],\n",
              "         [7, 8, 9]]),\n",
              " tensor([4, 5, 6]),\n",
              " tensor(6))"
            ]
          },
          "metadata": {},
          "execution_count": 91
        }
      ]
    },
    {
      "cell_type": "code",
      "source": [
        "t.shape"
      ],
      "metadata": {
        "colab": {
          "base_uri": "https://localhost:8080/"
        },
        "id": "LBFI-j5vLpQu",
        "outputId": "f8f2fbff-a1ed-492e-a76f-742ca9a1e290"
      },
      "execution_count": 97,
      "outputs": [
        {
          "output_type": "execute_result",
          "data": {
            "text/plain": [
              "torch.Size([11, 3, 3])"
            ]
          },
          "metadata": {},
          "execution_count": 97
        }
      ]
    },
    {
      "cell_type": "code",
      "source": [
        "t[:, 1, 1]"
      ],
      "metadata": {
        "colab": {
          "base_uri": "https://localhost:8080/"
        },
        "id": "ms05gVq6OPa0",
        "outputId": "e2d7a9f5-2dc3-49d2-ce79-a37533560834"
      },
      "execution_count": 106,
      "outputs": [
        {
          "output_type": "execute_result",
          "data": {
            "text/plain": [
              "tensor([ 5, 14, 23, 32, 41, 50, 59, 68, 77, 86, 95])"
            ]
          },
          "metadata": {},
          "execution_count": 106
        }
      ]
    },
    {
      "cell_type": "code",
      "source": [
        "t, t[6, 1, 2]"
      ],
      "metadata": {
        "colab": {
          "base_uri": "https://localhost:8080/"
        },
        "id": "MYjhB7smOnqR",
        "outputId": "9cca4a57-1f04-4fe9-87ba-2d647388b623"
      },
      "execution_count": 109,
      "outputs": [
        {
          "output_type": "execute_result",
          "data": {
            "text/plain": [
              "(tensor([[[ 1,  2,  3],\n",
              "          [ 4,  5,  6],\n",
              "          [ 7,  8,  9]],\n",
              " \n",
              "         [[10, 11, 12],\n",
              "          [13, 14, 15],\n",
              "          [16, 17, 18]],\n",
              " \n",
              "         [[19, 20, 21],\n",
              "          [22, 23, 24],\n",
              "          [25, 26, 27]],\n",
              " \n",
              "         [[28, 29, 30],\n",
              "          [31, 32, 33],\n",
              "          [34, 35, 36]],\n",
              " \n",
              "         [[37, 38, 39],\n",
              "          [40, 41, 42],\n",
              "          [43, 44, 45]],\n",
              " \n",
              "         [[46, 47, 48],\n",
              "          [49, 50, 51],\n",
              "          [52, 53, 54]],\n",
              " \n",
              "         [[55, 56, 57],\n",
              "          [58, 59, 60],\n",
              "          [61, 62, 63]],\n",
              " \n",
              "         [[64, 65, 66],\n",
              "          [67, 68, 69],\n",
              "          [70, 71, 72]],\n",
              " \n",
              "         [[73, 74, 75],\n",
              "          [76, 77, 78],\n",
              "          [79, 80, 81]],\n",
              " \n",
              "         [[82, 83, 84],\n",
              "          [85, 86, 87],\n",
              "          [88, 89, 90]],\n",
              " \n",
              "         [[91, 92, 93],\n",
              "          [94, 95, 96],\n",
              "          [97, 98, 99]]]),\n",
              " tensor(60))"
            ]
          },
          "metadata": {},
          "execution_count": 109
        }
      ]
    },
    {
      "cell_type": "code",
      "source": [
        "t[:, :, 2].flatten()"
      ],
      "metadata": {
        "colab": {
          "base_uri": "https://localhost:8080/"
        },
        "id": "2hQfW2r_PQV_",
        "outputId": "94e29197-c712-4461-fa4d-9eb0edc48a70"
      },
      "execution_count": 114,
      "outputs": [
        {
          "output_type": "execute_result",
          "data": {
            "text/plain": [
              "tensor([ 3,  6,  9, 12, 15, 18, 21, 24, 27, 30, 33, 36, 39, 42, 45, 48, 51, 54,\n",
              "        57, 60, 63, 66, 69, 72, 75, 78, 81, 84, 87, 90, 93, 96, 99])"
            ]
          },
          "metadata": {},
          "execution_count": 114
        }
      ]
    },
    {
      "cell_type": "markdown",
      "source": [
        "## NumPy is paramount in using Pytorch, it actually comes with the package"
      ],
      "metadata": {
        "id": "KsX_vlFgPpL6"
      }
    },
    {
      "cell_type": "markdown",
      "source": [
        "As you can see, the transition between ndarrays and tensors are really seemless"
      ],
      "metadata": {
        "id": "9DA3qhfJRvXw"
      }
    },
    {
      "cell_type": "code",
      "source": [
        "# Numpy array to tensor\n",
        "import torch\n",
        "import numpy as np\n",
        "\n",
        "ndarray = np.arange(1, 8)\n",
        "tensor = torch.from_numpy(ndarray).type(torch.float32)\n",
        "# If we do not specify the type after conversion, the torch.from_numpy method is gonna match the type of Numpy\n",
        "\n",
        "ndarray.dtype, tensor.dtype"
      ],
      "metadata": {
        "colab": {
          "base_uri": "https://localhost:8080/"
        },
        "id": "82xe6wdXPxuq",
        "outputId": "b720e8da-abd3-47bd-89bd-c6d7513eb2fa"
      },
      "execution_count": 119,
      "outputs": [
        {
          "output_type": "execute_result",
          "data": {
            "text/plain": [
              "(dtype('int64'), torch.float16)"
            ]
          },
          "metadata": {},
          "execution_count": 119
        }
      ]
    },
    {
      "cell_type": "code",
      "source": [
        "ndarray = ndarray +1\n",
        "ndarray, tensor\n",
        "# Memory is not shared"
      ],
      "metadata": {
        "colab": {
          "base_uri": "https://localhost:8080/"
        },
        "id": "6Mvs3bwdQhhv",
        "outputId": "48552cb6-b808-4490-db57-121ad8b2ea10"
      },
      "execution_count": 121,
      "outputs": [
        {
          "output_type": "execute_result",
          "data": {
            "text/plain": [
              "(array([3, 4, 5, 6, 7, 8, 9]),\n",
              " tensor([1., 2., 3., 4., 5., 6., 7.], dtype=torch.float16))"
            ]
          },
          "metadata": {},
          "execution_count": 121
        }
      ]
    },
    {
      "cell_type": "code",
      "source": [
        "tensor = torch.eye(3, 3)\n",
        "np_tensor = tensor.numpy()\n",
        "tensor.dtype, np_tensor.dtype\n",
        "# Numpy keeps the standard type from pytorch"
      ],
      "metadata": {
        "colab": {
          "base_uri": "https://localhost:8080/"
        },
        "id": "Emt84JU0RDLT",
        "outputId": "1e6d57a2-236b-4964-9da6-7ad896e53639"
      },
      "execution_count": 128,
      "outputs": [
        {
          "output_type": "execute_result",
          "data": {
            "text/plain": [
              "(torch.float32, dtype('float32'))"
            ]
          },
          "metadata": {},
          "execution_count": 128
        }
      ]
    },
    {
      "cell_type": "markdown",
      "source": [
        "# Reproducibility"
      ],
      "metadata": {
        "id": "jSXbtF23RfMH"
      }
    },
    {
      "cell_type": "code",
      "source": [
        "torch.rand(3, 3)"
      ],
      "metadata": {
        "colab": {
          "base_uri": "https://localhost:8080/"
        },
        "id": "_J4A0SYoR8Ie",
        "outputId": "fe31003d-02e1-4e0d-dfb0-dc8d80d9dd8c"
      },
      "execution_count": 129,
      "outputs": [
        {
          "output_type": "execute_result",
          "data": {
            "text/plain": [
              "tensor([[0.2534, 0.5367, 0.4621],\n",
              "        [0.3159, 0.6779, 0.0820],\n",
              "        [0.5740, 0.2633, 0.5577]])"
            ]
          },
          "metadata": {},
          "execution_count": 129
        }
      ]
    },
    {
      "cell_type": "code",
      "source": [
        "torch.manual_seed(0)\n",
        "torch.rand(3, 3)\n",
        "# Always the same output"
      ],
      "metadata": {
        "colab": {
          "base_uri": "https://localhost:8080/"
        },
        "id": "eM0-dFEYSO7c",
        "outputId": "cd43e30a-737f-4e10-f4b7-271d98548871"
      },
      "execution_count": 132,
      "outputs": [
        {
          "output_type": "execute_result",
          "data": {
            "text/plain": [
              "tensor([[0.4963, 0.7682, 0.0885],\n",
              "        [0.1320, 0.3074, 0.6341],\n",
              "        [0.4901, 0.8964, 0.4556]])"
            ]
          },
          "metadata": {},
          "execution_count": 132
        }
      ]
    },
    {
      "cell_type": "markdown",
      "source": [
        "This is pretty important apparently"
      ],
      "metadata": {
        "id": "RgPcyddKS-Lo"
      }
    },
    {
      "cell_type": "markdown",
      "source": [
        "# Using GPU\n",
        "They are generally faster for computing thanks to CUDE + NVIDIA hardware + Pytorch working to make everything great"
      ],
      "metadata": {
        "id": "IuSD4CMTWZcl"
      }
    },
    {
      "cell_type": "markdown",
      "source": [
        "### Getting a GPU\n",
        "\n",
        "1. Easiest method is using google Colab, using their GPU (there are options to upgrade)\n",
        "2. Using your own, requires setup and you need to buy it.\n",
        "3. Use cloud computing - GCP, AWS, Azure and etc. Basically allows you to rent computers\n",
        "\n",
        "For number 2 and 3 it takes a bit of work to setup. Refer back to the Torch documentation for that"
      ],
      "metadata": {
        "id": "y9X6Vu6yWqWF"
      }
    },
    {
      "cell_type": "markdown",
      "source": [
        "### 2. Checking for GPU in Pytorch"
      ],
      "metadata": {
        "id": "S8VX3myXXeyp"
      }
    },
    {
      "cell_type": "code",
      "source": [
        "import torch\n",
        "torch.cuda.is_available() # op method"
      ],
      "metadata": {
        "colab": {
          "base_uri": "https://localhost:8080/"
        },
        "id": "T6bnE--gYJXS",
        "outputId": "89cfaff3-0be0-4765-8a32-46b79f390d4f"
      },
      "execution_count": 1,
      "outputs": [
        {
          "output_type": "execute_result",
          "data": {
            "text/plain": [
              "True"
            ]
          },
          "metadata": {},
          "execution_count": 1
        }
      ]
    },
    {
      "cell_type": "code",
      "source": [
        "# Setup device agnostic code (???)\n",
        "device = \"cuda\" if torch.cuda.is_available() else \"cpu\"\n",
        "\n",
        "# It is just a check for running on GPU if available and using cpu otherwise"
      ],
      "metadata": {
        "id": "QL2LAs-uYc5r"
      },
      "execution_count": 2,
      "outputs": []
    },
    {
      "cell_type": "code",
      "source": [
        "torch.cuda.device_count()"
      ],
      "metadata": {
        "colab": {
          "base_uri": "https://localhost:8080/"
        },
        "id": "Vikz1eKbZDzm",
        "outputId": "c65a79eb-e494-41e5-8cbf-fc96233051af"
      },
      "execution_count": 3,
      "outputs": [
        {
          "output_type": "execute_result",
          "data": {
            "text/plain": [
              "1"
            ]
          },
          "metadata": {},
          "execution_count": 3
        }
      ]
    },
    {
      "cell_type": "markdown",
      "source": [
        "##3. Putting tensors(and models) on the GPU"
      ],
      "metadata": {
        "id": "AMFE0VsiZWar"
      }
    },
    {
      "cell_type": "code",
      "source": [
        "tensor = torch.tensor([1, 2, 3])\n",
        "tensor.device"
      ],
      "metadata": {
        "colab": {
          "base_uri": "https://localhost:8080/"
        },
        "id": "i7q0aBxVbMfj",
        "outputId": "e661244d-1175-4e7a-8a46-4033cf842360"
      },
      "execution_count": 4,
      "outputs": [
        {
          "output_type": "execute_result",
          "data": {
            "text/plain": [
              "device(type='cpu')"
            ]
          },
          "metadata": {},
          "execution_count": 4
        }
      ]
    },
    {
      "cell_type": "code",
      "source": [
        "tensor_on_gpu = tensor.to(device)\n",
        "tensor_on_gpu"
      ],
      "metadata": {
        "colab": {
          "base_uri": "https://localhost:8080/"
        },
        "id": "NZROqEkSbTSx",
        "outputId": "bf061191-b1e3-4729-f762-6aaf7d7598fe"
      },
      "execution_count": 5,
      "outputs": [
        {
          "output_type": "execute_result",
          "data": {
            "text/plain": [
              "tensor([1, 2, 3], device='cuda:0')"
            ]
          },
          "metadata": {},
          "execution_count": 5
        }
      ]
    },
    {
      "cell_type": "code",
      "source": [
        "tensor_on_gpu.numpy()\n",
        "# Will error since Numpy can only do operations with stuff in CPU"
      ],
      "metadata": {
        "colab": {
          "base_uri": "https://localhost:8080/",
          "height": 210
        },
        "id": "YmiZ4XQdcEoa",
        "outputId": "bfdd151e-9237-4514-9bdb-fe1f03546ea0"
      },
      "execution_count": 6,
      "outputs": [
        {
          "output_type": "error",
          "ename": "TypeError",
          "evalue": "ignored",
          "traceback": [
            "\u001b[0;31m---------------------------------------------------------------------------\u001b[0m",
            "\u001b[0;31mTypeError\u001b[0m                                 Traceback (most recent call last)",
            "\u001b[0;32m<ipython-input-6-7774d7c09a1d>\u001b[0m in \u001b[0;36m<cell line: 1>\u001b[0;34m()\u001b[0m\n\u001b[0;32m----> 1\u001b[0;31m \u001b[0mtensor_on_gpu\u001b[0m\u001b[0;34m.\u001b[0m\u001b[0mnumpy\u001b[0m\u001b[0;34m(\u001b[0m\u001b[0;34m)\u001b[0m\u001b[0;34m\u001b[0m\u001b[0;34m\u001b[0m\u001b[0m\n\u001b[0m\u001b[1;32m      2\u001b[0m \u001b[0;31m# Will error since Numpy can only do operations with stuff in CPU\u001b[0m\u001b[0;34m\u001b[0m\u001b[0;34m\u001b[0m\u001b[0m\n",
            "\u001b[0;31mTypeError\u001b[0m: can't convert cuda:0 device type tensor to numpy. Use Tensor.cpu() to copy the tensor to host memory first."
          ]
        }
      ]
    },
    {
      "cell_type": "code",
      "source": [
        "np_tensor = tensor_on_gpu.to(\"cpu\").numpy()\n",
        "np_tensor"
      ],
      "metadata": {
        "colab": {
          "base_uri": "https://localhost:8080/"
        },
        "id": "GIZBtOcDcPkY",
        "outputId": "eaa65406-efa9-4774-a514-86107a50d6cc"
      },
      "execution_count": 7,
      "outputs": [
        {
          "output_type": "execute_result",
          "data": {
            "text/plain": [
              "array([1, 2, 3])"
            ]
          },
          "metadata": {},
          "execution_count": 7
        }
      ]
    },
    {
      "cell_type": "markdown",
      "source": [
        "#Exercises"
      ],
      "metadata": {
        "id": "OutNl35Weur1"
      }
    },
    {
      "cell_type": "code",
      "source": [
        "#2\n",
        "t2 = torch.rand(7, 7)"
      ],
      "metadata": {
        "id": "yJEgPaAJewqU"
      },
      "execution_count": 10,
      "outputs": []
    },
    {
      "cell_type": "code",
      "source": [
        "#3\n",
        "t3 = torch.rand(1, 7)\n",
        "# torch.matmul(t2, t3) will not work since they don't have the same shape\n",
        "torch.matmul(t2, t3.T)"
      ],
      "metadata": {
        "colab": {
          "base_uri": "https://localhost:8080/"
        },
        "id": "lnVN30JGn3qt",
        "outputId": "e676c4eb-93b1-4a66-a0fe-dc5948bc28ee"
      },
      "execution_count": 14,
      "outputs": [
        {
          "output_type": "execute_result",
          "data": {
            "text/plain": [
              "tensor([[1.8360],\n",
              "        [0.7810],\n",
              "        [0.9701],\n",
              "        [1.7245],\n",
              "        [1.4408],\n",
              "        [1.0813],\n",
              "        [1.1859]])"
            ]
          },
          "metadata": {},
          "execution_count": 14
        }
      ]
    },
    {
      "cell_type": "code",
      "source": [
        "#4\n",
        "torch.manual_seed(0)\n",
        "t2 = torch.rand(7, 7)\n",
        "\n",
        "torch.manual_seed(0)\n",
        "t3 = torch.rand(1, 7)\n",
        "torch.matmul(t2, t3.T)"
      ],
      "metadata": {
        "colab": {
          "base_uri": "https://localhost:8080/",
          "height": 227
        },
        "id": "Ia2Of0IwoVly",
        "outputId": "ad8fcc6f-3ce3-40f0-cb26-368897ab913f"
      },
      "execution_count": 26,
      "outputs": [
        {
          "output_type": "error",
          "ename": "RuntimeError",
          "evalue": "ignored",
          "traceback": [
            "\u001b[0;31m---------------------------------------------------------------------------\u001b[0m",
            "\u001b[0;31mRuntimeError\u001b[0m                              Traceback (most recent call last)",
            "\u001b[0;32m<ipython-input-26-ffe21935a436>\u001b[0m in \u001b[0;36m<cell line: 7>\u001b[0;34m()\u001b[0m\n\u001b[1;32m      5\u001b[0m \u001b[0mtorch\u001b[0m\u001b[0;34m.\u001b[0m\u001b[0mmanual_seed\u001b[0m\u001b[0;34m(\u001b[0m\u001b[0;36m0\u001b[0m\u001b[0;34m)\u001b[0m\u001b[0;34m\u001b[0m\u001b[0;34m\u001b[0m\u001b[0m\n\u001b[1;32m      6\u001b[0m \u001b[0mt3\u001b[0m \u001b[0;34m=\u001b[0m \u001b[0mtorch\u001b[0m\u001b[0;34m.\u001b[0m\u001b[0mrand\u001b[0m\u001b[0;34m(\u001b[0m\u001b[0;36m1\u001b[0m\u001b[0;34m,\u001b[0m \u001b[0;36m7\u001b[0m\u001b[0;34m,\u001b[0m \u001b[0mdevice\u001b[0m \u001b[0;34m=\u001b[0m \u001b[0;34m\"cuda\"\u001b[0m\u001b[0;34m)\u001b[0m\u001b[0;34m\u001b[0m\u001b[0;34m\u001b[0m\u001b[0m\n\u001b[0;32m----> 7\u001b[0;31m \u001b[0mtorch\u001b[0m\u001b[0;34m.\u001b[0m\u001b[0mmatmul\u001b[0m\u001b[0;34m(\u001b[0m\u001b[0mt2\u001b[0m\u001b[0;34m,\u001b[0m \u001b[0mt3\u001b[0m\u001b[0;34m.\u001b[0m\u001b[0mT\u001b[0m\u001b[0;34m)\u001b[0m\u001b[0;34m\u001b[0m\u001b[0;34m\u001b[0m\u001b[0m\n\u001b[0m",
            "\u001b[0;31mRuntimeError\u001b[0m: Expected all tensors to be on the same device, but found at least two devices, cpu and cuda:0! (when checking argument for argument mat2 in method wrapper_CUDA_mm)"
          ]
        }
      ]
    },
    {
      "cell_type": "code",
      "source": [
        "#5\n",
        "\n",
        "torch.cuda.manual_seed(1234)\n",
        "torch.rand(2, device = \"cuda\")"
      ],
      "metadata": {
        "colab": {
          "base_uri": "https://localhost:8080/"
        },
        "id": "6QdZSiFWo5c_",
        "outputId": "25dc0029-602c-482c-bc68-0505be8958f5"
      },
      "execution_count": 25,
      "outputs": [
        {
          "output_type": "execute_result",
          "data": {
            "text/plain": [
              "tensor([0.1272, 0.8167], device='cuda:0')"
            ]
          },
          "metadata": {},
          "execution_count": 25
        }
      ]
    },
    {
      "cell_type": "code",
      "source": [
        "torch.manual_seed(1)\n",
        "torch.rand(2, device = \"cuda\")\n",
        "# Apparently works as well"
      ],
      "metadata": {
        "id": "bHDHqrJ4prlf"
      },
      "execution_count": null,
      "outputs": []
    },
    {
      "cell_type": "code",
      "source": [
        "#6\n",
        "torch.manual_seed(1234)\n",
        "t61 = torch.rand(2, 3)\n",
        "\n",
        "torch.manual_seed(1234)\n",
        "t62 = torch.rand(2, 3)\n",
        "\n",
        "t61.to(\"cuda\")\n",
        "t62.to(\"cuda\");"
      ],
      "metadata": {
        "id": "MmbTFSIRqCVn"
      },
      "execution_count": 36,
      "outputs": []
    },
    {
      "cell_type": "code",
      "source": [
        "#7\n",
        "t7 = torch.matmul(t61.reshape(3, 2), t62)"
      ],
      "metadata": {
        "id": "t-c60LlLqXep"
      },
      "execution_count": 41,
      "outputs": []
    },
    {
      "cell_type": "code",
      "source": [
        "torch.matmul(t61, t62.reshape(3, 2))"
      ],
      "metadata": {
        "colab": {
          "base_uri": "https://localhost:8080/"
        },
        "id": "teqHIpXGqmi3",
        "outputId": "3fd90a4b-931d-4342-bf7a-48c7e221e7ae"
      },
      "execution_count": 40,
      "outputs": [
        {
          "output_type": "execute_result",
          "data": {
            "text/plain": [
              "tensor([[0.1204, 0.3411],\n",
              "        [0.0666, 0.6596]])"
            ]
          },
          "metadata": {},
          "execution_count": 40
        }
      ]
    },
    {
      "cell_type": "code",
      "source": [
        "#8\n",
        "torch.max(t7),torch.min(t7), t7"
      ],
      "metadata": {
        "colab": {
          "base_uri": "https://localhost:8080/"
        },
        "id": "RUy13j83qu4P",
        "outputId": "2aff8636-c972-478d-c308-efec09dc6da5"
      },
      "execution_count": 50,
      "outputs": [
        {
          "output_type": "execute_result",
          "data": {
            "text/plain": [
              "(tensor(0.5061),\n",
              " tensor([[0.1482, 0.0351, 0.2891],\n",
              "         [0.1420, 0.1258, 0.3244],\n",
              "         [0.2586, 0.0643, 0.5061]]))"
            ]
          },
          "metadata": {},
          "execution_count": 50
        }
      ]
    },
    {
      "cell_type": "code",
      "source": [
        "#9\n",
        "torch.argmax(t7), torch.argmin(t7), t7"
      ],
      "metadata": {
        "colab": {
          "base_uri": "https://localhost:8080/"
        },
        "id": "k-nNpDpUrjT5",
        "outputId": "42956803-bc4b-4c5c-9d5b-731800e3af78"
      },
      "execution_count": 52,
      "outputs": [
        {
          "output_type": "execute_result",
          "data": {
            "text/plain": [
              "(tensor(8),\n",
              " tensor(1),\n",
              " tensor([[0.1482, 0.0351, 0.2891],\n",
              "         [0.1420, 0.1258, 0.3244],\n",
              "         [0.2586, 0.0643, 0.5061]]))"
            ]
          },
          "metadata": {},
          "execution_count": 52
        }
      ]
    },
    {
      "cell_type": "code",
      "source": [
        "#10\n",
        "torch.manual_seed(7)\n",
        "t10 = torch.rand(1, 1, 1, 10)\n",
        "\n",
        "t10_2 = t10.squeeze()\n",
        "print(f\"Initial tensor with size {t10.shape}: \\n {t10}\")\n",
        "print(f\"Tensor after squeeze with size {t10_2.shape}: \\n {t10_2}\")"
      ],
      "metadata": {
        "colab": {
          "base_uri": "https://localhost:8080/"
        },
        "id": "v6ivmgrlr4D2",
        "outputId": "9fc639ef-a334-46dd-8c67-f88919504f77"
      },
      "execution_count": 55,
      "outputs": [
        {
          "output_type": "stream",
          "name": "stdout",
          "text": [
            "Initial tensor with size torch.Size([1, 1, 1, 10]): \n",
            " tensor([[[[0.5349, 0.1988, 0.6592, 0.6569, 0.2328, 0.4251, 0.2071, 0.6297,\n",
            "           0.3653, 0.8513]]]])\n",
            "Tensor after squeeze with size torch.Size([10]): \n",
            " tensor([0.5349, 0.1988, 0.6592, 0.6569, 0.2328, 0.4251, 0.2071, 0.6297, 0.3653,\n",
            "        0.8513])\n"
          ]
        }
      ]
    }
  ]
}